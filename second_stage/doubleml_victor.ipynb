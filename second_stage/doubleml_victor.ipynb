{
 "cells": [
  {
   "cell_type": "markdown",
   "metadata": {},
   "source": [
    "# Import Packages"
   ]
  },
  {
   "cell_type": "code",
   "execution_count": null,
   "metadata": {},
   "outputs": [],
   "source": [
    "import doubleml as dml\n",
    "from doubleml.datasets import make_irm_data\n",
    "import pandas as pd\n",
    "import numpy as np\n",
    "import lightgbm as lgb\n",
    "import sklearn\n",
    "from sklearn.model_selection import train_test_split\n",
    "from sklearn.metrics import f1_score, confusion_matrix, roc_auc_score, ConfusionMatrixDisplay, average_precision_score, make_scorer, mean_absolute_error, median_absolute_error\n",
    "from sklearn.model_selection import cross_val_score\n",
    "import matplotlib.pyplot as plt\n",
    "from hyperopt import fmin, tpe, hp, STATUS_OK, Trials\n",
    "from scipy.sparse.linalg import lobpcg"
   ]
  },
  {
   "cell_type": "markdown",
   "metadata": {},
   "source": [
    "# Load Data"
   ]
  },
  {
   "cell_type": "code",
   "execution_count": null,
   "metadata": {},
   "outputs": [],
   "source": [
    "df = pd.read_csv(\"../data/prepped_data.csv\", low_memory=False, index_col=0).drop_duplicates()\n",
    "\n",
    "df = df[df[\"first_data_year\"] >= 2021]"
   ]
  },
  {
   "cell_type": "code",
   "execution_count": null,
   "metadata": {},
   "outputs": [],
   "source": [
    "nulls = [col for col, val in df.isnull().any().to_dict().items() if val == True]\n",
    "print(nulls)"
   ]
  },
  {
   "cell_type": "markdown",
   "metadata": {},
   "source": [
    "# Setup Data"
   ]
  },
  {
   "cell_type": "code",
   "execution_count": null,
   "metadata": {},
   "outputs": [],
   "source": [
    "cols_to_drop = [\"policy_nr_hashed\", \"last_data_year\", \"first_data_year\", \"control_group\", 'count', 'first_datapoint_year', 'last_datapoint_year']\n",
    "df = df[[col for col in df.columns.to_list() if (col not in cols_to_drop)]]"
   ]
  },
  {
   "cell_type": "code",
   "execution_count": null,
   "metadata": {},
   "outputs": [],
   "source": [
    "categorical_features = []\n",
    "continuous_features = []\n",
    "binary_features = []\n",
    "\n",
    "# Define a threshold for the maximum number of unique values for a categorical column\n",
    "max_unique_values_for_categorical = 5\n",
    "\n",
    "# Iterate through each column to determine if it's categorical, continuous, or binary\n",
    "for column in df.columns:\n",
    "    unique_values = df[column].nunique()\n",
    "    if unique_values == 2:\n",
    "        # If exactly 2 unique values, treat column as binary\n",
    "        binary_features.append(column)\n",
    "    elif (df[column].dtype == 'object' or unique_values <= max_unique_values_for_categorical) and unique_values > 2:\n",
    "        # If object type or up to the threshold of unique values (and more than 2), treat as categorical\n",
    "        categorical_features.append(column)\n",
    "    else:\n",
    "        # Otherwise, treat as continuous\n",
    "        continuous_features.append(column)\n",
    "\n",
    "categorical_features = [col for col in categorical_features if col != \"nr_years\"]\n",
    "continuous_features = continuous_features + ['nr_years']\n",
    "\n",
    "print(f'Binary Features: {binary_features}')\n",
    "print(f'Categorical Features: {categorical_features}')\n",
    "print(f'Continuous Features: {continuous_features}')\n",
    "\n",
    "df = pd.get_dummies(df, columns=categorical_features, dtype=\"int\")"
   ]
  },
  {
   "cell_type": "markdown",
   "metadata": {},
   "source": [
    "# Setup Models"
   ]
  },
  {
   "cell_type": "code",
   "execution_count": null,
   "metadata": {},
   "outputs": [],
   "source": [
    "best_d = {'colsample_bytree': 0.5651430631040584, 'learning_rate': 0.05024033157100756, 'max_depth': 70.0, 'min_child_samples': 33.0, 'min_data_in_leaf': 5.0, 'min_split_gain': 0.0024206836721644767, 'n_estimators': 54.0, 'num_leaves': 185.0, 'reg_alpha': 0.19913197144824663, 'reg_lambda': 0.19906785062440704, 'subsample': 0.9121630873508754, 'subsample_freq': 26.0}\n",
    "\n",
    "best_params_d = {\n",
    "    'max_depth': int(best_d['max_depth']),\n",
    "    'n_estimators': int(best_d['n_estimators']),\n",
    "    'num_leaves': int(best_d['num_leaves']),\n",
    "    'min_child_samples': int(best_d['min_child_samples']),\n",
    "    'colsample_bytree': best_d['colsample_bytree'],\n",
    "    'subsample': best_d['subsample'],\n",
    "    'subsample_freq': int(best_d['subsample_freq']),\n",
    "    'reg_alpha': best_d['reg_alpha'],\n",
    "    'reg_lambda': best_d['reg_lambda'],\n",
    "    'min_split_gain': best_d['min_split_gain'],\n",
    "    'learning_rate': best_d['learning_rate'],\n",
    "    'min_data_in_leaf': int(best_d['min_data_in_leaf']),\n",
    "}\n",
    "\n",
    "ml_d = lgb.LGBMClassifier(\n",
    "    objective='binary',\n",
    "    force_row_wise=True,\n",
    "    verbosity=-1,\n",
    "    # is_unbalance=True,\n",
    "    **best_params_d\n",
    ")"
   ]
  },
  {
   "cell_type": "code",
   "execution_count": null,
   "metadata": {},
   "outputs": [],
   "source": [
    "best_y = {'colsample_bytree': 0.2983935721861137, 'learning_rate': 0.04740706929909022, 'max_depth': 59.0, 'min_child_samples': 18.0, 'min_data_in_leaf': 13.0, 'min_split_gain': 0.3863623673164322, 'n_estimators': 74.0, 'num_leaves': 54.0, 'reg_alpha': 0.1198683978345154, 'reg_lambda': 0.18168767473399486, 'subsample': 0.9841777438197711, 'subsample_freq': 27.0}\n",
    "\n",
    "best_params_y = {\n",
    "    'max_depth': int(best_y['max_depth']),\n",
    "    'n_estimators': int(best_y['n_estimators']),\n",
    "    'num_leaves': int(best_y['num_leaves']),\n",
    "    'min_child_samples': int(best_y['min_child_samples']),\n",
    "    'colsample_bytree': best_y['colsample_bytree'],\n",
    "    'subsample': best_y['subsample'],\n",
    "    'subsample_freq': int(best_y['subsample_freq']),\n",
    "    'reg_alpha': best_y['reg_alpha'],\n",
    "    'reg_lambda': best_y['reg_lambda'],\n",
    "    'min_split_gain': best_y['min_split_gain'],\n",
    "    'learning_rate': best_y['learning_rate'],\n",
    "    'min_data_in_leaf': int(best_y['min_data_in_leaf']),\n",
    "}\n",
    "\n",
    "ml_y = lgb.LGBMClassifier(\n",
    "    objective='binary',\n",
    "    force_row_wise=True,\n",
    "    verbosity=-1,\n",
    "    # is_unbalance=True,\n",
    "    **best_params_y\n",
    ")"
   ]
  },
  {
   "cell_type": "markdown",
   "metadata": {},
   "source": [
    "# Setup DML"
   ]
  },
  {
   "cell_type": "code",
   "execution_count": null,
   "metadata": {},
   "outputs": [],
   "source": [
    "def perform_single_doubleml(df):\n",
    "    obj_dml_data = dml.DoubleMLData(df, 'churn', 'welcome_discount_bin')\n",
    "    dml_irm_obj = dml.DoubleMLIRM(obj_dml_data, ml_y, ml_d, score=\"ATE\", weights=None)\n",
    "    dml_irm_obj.fit()\n",
    "    return dml_irm_obj"
   ]
  },
  {
   "cell_type": "code",
   "execution_count": null,
   "metadata": {},
   "outputs": [],
   "source": [
    "def split_data(df, num_splits):\n",
    "\n",
    "    df_nothing = df[df[\"welcome_discount\"] == 0].copy()\n",
    "    df_others = df[df['welcome_discount'] != 0].copy()\n",
    "    \n",
    "    df_others['split'] = pd.qcut(df_others['welcome_discount'], q=num_splits)\n",
    "    split_names = df_others['split'].unique()\n",
    "\n",
    "    split_dfs = {label: pd.concat([df_nothing, df_others[df_others['split'] == label]]).drop(\"split\", axis=1) for label in split_names}\n",
    "    \n",
    "    return dict(sorted(split_dfs.items()))"
   ]
  },
  {
   "cell_type": "code",
   "execution_count": null,
   "metadata": {},
   "outputs": [],
   "source": [
    "def run_doubleml(split_dfs):\n",
    "\n",
    "    double_mls = {}\n",
    "\n",
    "    for k, v in split_dfs.items():\n",
    "        v[\"welcome_discount_bin\"] = np.ceil(v[\"welcome_discount\"]).astype(int)\n",
    "        double_mls[k] = perform_single_doubleml(v)\n",
    "\n",
    "    return double_mls"
   ]
  },
  {
   "cell_type": "code",
   "execution_count": null,
   "metadata": {},
   "outputs": [],
   "source": [
    "split_dfs = split_data(df, 3)\n",
    "\n",
    "double_mls = run_doubleml(split_dfs)"
   ]
  },
  {
   "cell_type": "code",
   "execution_count": null,
   "metadata": {},
   "outputs": [],
   "source": [
    "columns_clustering = ['last_customer_age', 'last_accident_free_years', 'last_car_value', 'last_age_car', \"last_postcode\", \"last_fuel_type\", \"nr_year\", \"last_premium\", 'last_sales_channel']\n",
    "regex_pattern = '^' + '|'.join(columns_clustering)\n",
    "\n",
    "for k, v in double_mls.items():\n",
    "    print(k)\n",
    "    display(v.summary)\n",
    "    # print(v.sensitivity_analysis().sensitivity_summary)\n",
    "    display(split_dfs[k][split_dfs[k][\"welcome_discount_bin\"] == 1].filter(regex=regex_pattern).describe().T[[\"count\", \"mean\", \"std\", \"min\", \"max\"]])"
   ]
  },
  {
   "cell_type": "code",
   "execution_count": null,
   "metadata": {},
   "outputs": [],
   "source": [
    "[out for out in double_mls.values()][-1].sensitivity_analysis()\n",
    "[out for out in double_mls.values()][-1].sensitivity_plot()"
   ]
  },
  {
   "cell_type": "code",
   "execution_count": null,
   "metadata": {},
   "outputs": [],
   "source": []
  }
 ],
 "metadata": {
  "kernelspec": {
   "display_name": "Python 3",
   "language": "python",
   "name": "python3"
  },
  "language_info": {
   "codemirror_mode": {
    "name": "ipython",
    "version": 3
   },
   "file_extension": ".py",
   "mimetype": "text/x-python",
   "name": "python",
   "nbconvert_exporter": "python",
   "pygments_lexer": "ipython3",
   "version": "3.8.16"
  }
 },
 "nbformat": 4,
 "nbformat_minor": 2
}
