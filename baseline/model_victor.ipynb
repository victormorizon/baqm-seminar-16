{
 "cells": [
  {
   "cell_type": "markdown",
   "metadata": {},
   "source": [
    "# Import Packages"
   ]
  },
  {
   "cell_type": "code",
   "execution_count": 38,
   "metadata": {},
   "outputs": [],
   "source": [
    "import pandas as pd\n",
    "import numpy as np\n",
    "import lightgbm as lgb\n",
    "import sklearn\n",
    "from sklearn.model_selection import train_test_split\n",
    "from sklearn.metrics import f1_score, confusion_matrix, roc_auc_score, ConfusionMatrixDisplay, average_precision_score, make_scorer, precision_recall_curve, roc_curve, mean_absolute_error, median_absolute_error\n",
    "from sklearn.model_selection import cross_val_score\n",
    "import matplotlib.pyplot as plt\n",
    "from hyperopt import fmin, tpe, hp, STATUS_OK, Trials\n",
    "from sklearn.linear_model import LogisticRegression"
   ]
  },
  {
   "cell_type": "markdown",
   "metadata": {},
   "source": [
    "# Load Data"
   ]
  },
  {
   "cell_type": "code",
   "execution_count": 39,
   "metadata": {},
   "outputs": [],
   "source": [
    "df = pd.read_csv(\"../data/prepped_data.csv\", low_memory=False, index_col=0).drop_duplicates()\n",
    "\n",
    "df = df[df[\"welcome_discount\"] == 0]"
   ]
  },
  {
   "cell_type": "markdown",
   "metadata": {},
   "source": [
    "# Setup Model"
   ]
  },
  {
   "cell_type": "code",
   "execution_count": 40,
   "metadata": {},
   "outputs": [
    {
     "name": "stdout",
     "output_type": "stream",
     "text": [
      "[]\n"
     ]
    }
   ],
   "source": [
    "nulls = [col for col, val in df.isnull().any().to_dict().items() if val == True]\n",
    "print(nulls)"
   ]
  },
  {
   "cell_type": "code",
   "execution_count": 41,
   "metadata": {},
   "outputs": [
    {
     "name": "stdout",
     "output_type": "stream",
     "text": [
      "Binary Features: ['churn', 'last_allrisk basis', 'last_allrisk compleet', 'last_allrisk royaal', 'last_wa-extra', 'fake_alarm', 'policyholder_change', 'lpa']\n",
      "Categorical Features: ['count', 'last_data_year', 'first_datapoint_year', 'last_datapoint_year', 'control_group', 'last_brand', 'last_type', 'last_fuel_type', 'last_product', 'last_sales_channel', 'nr_cars', 'n_last_vs_peak', 'last_product']\n",
      "Continuous Features: ['welcome_discount', 'first_data_year', 'first_premium', 'last_premium', 'first_split', 'last_split', 'last_customer_age', 'last_accident_free_years', 'last_car_value', 'last_age_car', 'last_weight', 'last_postcode', 'max_nr_coverages', 'last_nr_coverages', 'accident_years', 'last_vs_first_split', 'cum_change_premium_abs', 'cum_change_premium_perc', 'pc4', 'nr_years', 'nr_ppl', 'males', 'females', 'tot_15y', '15_tot_25y', '25_tot_45y', '4_tot_65y', '65y_plus', 'perc_nld_ppl', 'perc_western_ppl', 'perc_others_ppl', 'nr_households', 'household_size', 'nr_homes', 'house_worth', 'median_income_household', 'perc_low_income', 'perc_high_income', 'ppl_social_help', 'density', 'nr_years']\n"
     ]
    }
   ],
   "source": [
    "categorical_features = []\n",
    "continuous_features = []\n",
    "binary_features = []\n",
    "\n",
    "# Define a threshold for the maximum number of unique values for a categorical column\n",
    "max_unique_values_for_categorical = 5\n",
    "\n",
    "# Iterate through each column to determine if it's categorical, continuous, or binary\n",
    "for column in df.columns:\n",
    "    unique_values = df[column].nunique()\n",
    "    if set(df[column].unique()) == {0, 1}:\n",
    "        # If exactly 2 unique values, treat column as binary\n",
    "        binary_features.append(column)\n",
    "    elif (df[column].dtype == 'object' or unique_values <= max_unique_values_for_categorical) and unique_values > 2:\n",
    "        # If object type or up to the threshold of unique values (and more than 2), treat as categorical\n",
    "        categorical_features.append(column)\n",
    "    else:\n",
    "        # Otherwise, treat as continuous\n",
    "        continuous_features.append(column)\n",
    "\n",
    "categorical_features = [col for col in categorical_features if col != \"nr_years\"] + ['last_product']\n",
    "continuous_features = [col for col in continuous_features if col != \"last_product\"] + ['nr_years']\n",
    "\n",
    "print(f'Binary Features: {binary_features}')\n",
    "print(f'Categorical Features: {categorical_features}')\n",
    "print(f'Continuous Features: {continuous_features}')\n",
    "\n",
    "for col in categorical_features:\n",
    "     df[col] = df[col].astype(\"category\")\n",
    "\n",
    "for col in binary_features:\n",
    "     df[col] = df[col].astype(\"int\")\n",
    "\n",
    "for col in continuous_features:\n",
    "     df[col] = df[col].astype(\"float\")"
   ]
  },
  {
   "cell_type": "code",
   "execution_count": 42,
   "metadata": {},
   "outputs": [],
   "source": [
    "# cols_to_drop_manual = [\"first_split\", \"first_premium\", \"nr_cars\", \"last_type\", \"last_brand\", 'last_weight', 'n_last_vs_peak', 'last_fuel_type', 'last_trend_nr_coverages', 'last_change_premium_abs', 'last_change_premium_perc', 'max_nr_coverages', 'last_nr_coverages',]\n",
    "cols_to_drop = [\"churn\", \"policy_nr_hashed\", \"last_data_year\", \"first_data_year\", \"control_group\", 'welcome_discount', 'count', 'first_datapoint_year', 'last_datapoint_year']\n",
    "selected_columns = [col for col in df.columns if not any(col.startswith(prefix) for prefix in cols_to_drop)]\n",
    "\n",
    "X = df[selected_columns]\n",
    "y = df['churn']\n",
    "\n",
    "X_train, X_test, y_train, y_test = train_test_split(X, y, test_size = 0.3, random_state = 0)"
   ]
  },
  {
   "cell_type": "markdown",
   "metadata": {},
   "source": [
    "# Custom Metric"
   ]
  },
  {
   "cell_type": "code",
   "execution_count": 20,
   "metadata": {},
   "outputs": [],
   "source": [
    "# weights = {\n",
    "#     'TP': 0,  # High importance to correctly identify churners\n",
    "#     'FP': 0,  # Moderate to high cost of misclassifying loyal customers\n",
    "#     'FN': 100.0,   # High cost of missing actual churners\n",
    "#     'TN': 100.0\n",
    "# }\n",
    "\n",
    "# def weighted_cost(y_true, y_scores, weights):\n",
    "\n",
    "#     tn, fp, fn, tp = confusion_matrix(y_true, y_scores).ravel()\n",
    "\n",
    "#     # Weight everyone\n",
    "#     TP_wght = tp * weights['TP']\n",
    "#     FP_wght = fp * weights['FP']\n",
    "#     FN_wght = fn * weights['FN']\n",
    "#     TN_wght = tn * weights['TN']\n",
    "\n",
    "#     # Compute weighted cost and normalise\n",
    "#     wghtd_cost = TP_wght + FP_wght + FN_wght + TN_wght\n",
    "\n",
    "#     return -wghtd_cost\n",
    "\n",
    "# weighted_cost_scorer = make_scorer(weighted_cost, needs_proba=True, weights=weights)"
   ]
  },
  {
   "cell_type": "markdown",
   "metadata": {},
   "source": [
    "# Model Selection"
   ]
  },
  {
   "cell_type": "code",
   "execution_count": 43,
   "metadata": {},
   "outputs": [
    {
     "name": "stdout",
     "output_type": "stream",
     "text": [
      "  0%|          | 0/50 [00:00<?, ?trial/s, best loss=?]"
     ]
    },
    {
     "name": "stdout",
     "output_type": "stream",
     "text": [
      "100%|██████████| 50/50 [09:43<00:00, 11.68s/trial, best loss: 0.09865451945583642]\n",
      "Best Score is:  -0.09865451945583642\n",
      "Best Parameters:  {'colsample_bytree': 0.4767248854316958, 'learning_rate': 0.049508163952125955, 'max_depth': 51.0, 'min_child_samples': 83.0, 'min_data_in_leaf': 16.0, 'min_split_gain': 0.034510311270982086, 'n_estimators': 172.0, 'num_leaves': 98.0, 'reg_alpha': 0.09935865421094406, 'reg_lambda': 0.004444746064853478, 'subsample': 0.8928828704612817, 'subsample_freq': 41.0}\n"
     ]
    }
   ],
   "source": [
    "space = {\n",
    "    'max_depth': hp.uniformint('max_depth', 50, 100),\n",
    "    'n_estimators': hp.uniformint('n_estimators', 50, 200),\n",
    "    'num_leaves': hp.uniformint('num_leaves', 2, 200),\n",
    "    'min_child_samples': hp.uniformint('min_child_samples', 7, 100),\n",
    "    'colsample_bytree': hp.uniform('colsample_bytree', 0.25, 1),\n",
    "    'subsample': hp.uniform('subsample', 0.25, 1),\n",
    "    'subsample_freq': hp.uniformint('subsample_freq', 1, 100),\n",
    "    'reg_alpha': hp.uniform('reg_alpha', 0, 0.2),\n",
    "    'reg_lambda': hp.uniform('reg_lambda', 0, 0.2),\n",
    "    'min_split_gain': hp.uniform('min_split_gain', 0, 0.5),\n",
    "    'learning_rate': hp.uniform('learning_rate', 0.01, 0.1),\n",
    "    'min_data_in_leaf': hp.uniformint('min_data_in_leaf', 1, 21),\n",
    "}\n",
    "\n",
    "def objective(params):\n",
    "    clf = lgb.LGBMClassifier(\n",
    "        objective='binary',\n",
    "        force_row_wise=True,\n",
    "        verbosity=-1,\n",
    "        # n_estimators=50,\n",
    "        **params\n",
    "    )\n",
    "    score = cross_val_score(clf, X_train, y_train, cv=5, scoring=\"neg_brier_score\").mean()\n",
    "    return {'loss': -score, 'status': STATUS_OK}\n",
    "\n",
    "n_iter = 50\n",
    "trials = Trials()\n",
    "\n",
    "best = fmin(fn=objective, space=space, algo=tpe.suggest, max_evals=n_iter, trials=trials)\n",
    "\n",
    "print(\"Best Score is: \", -trials.best_trial['result']['loss'])\n",
    "print(\"Best Parameters: \", best)"
   ]
  },
  {
   "cell_type": "code",
   "execution_count": 44,
   "metadata": {},
   "outputs": [],
   "source": [
    "# best = {'colsample_bytree': 0.7989227943227654, 'learning_rate': 0.017679237161356855, 'max_depth': 52.0, 'min_child_samples': 8.0, 'min_data_in_leaf': 21.0, 'min_split_gain': 0.2859207858932968, 'n_estimators': 197.0, 'num_leaves': 192.0, 'reg_alpha': 0.1325013951739118, 'reg_lambda': 0.16453662079071193, 'subsample': 0.9956021256933638, 'subsample_freq': 85.0}\n",
    "\n",
    "best_params = {\n",
    "    'max_depth': int(best['max_depth']),\n",
    "    'n_estimators': int(best['n_estimators']),\n",
    "    'num_leaves': int(best['num_leaves']),\n",
    "    'min_child_samples': int(best['min_child_samples']),\n",
    "    'colsample_bytree': best['colsample_bytree'],\n",
    "    'subsample': best['subsample'],\n",
    "    'subsample_freq': int(best['subsample_freq']),\n",
    "    'reg_alpha': best['reg_alpha'],\n",
    "    'reg_lambda': best['reg_lambda'],\n",
    "    'min_split_gain': best['min_split_gain'],\n",
    "    'learning_rate': best['learning_rate'],\n",
    "    'min_data_in_leaf': int(best['min_data_in_leaf'])\n",
    "}\n",
    "\n",
    "lgbm_best = lgb.LGBMClassifier(\n",
    "    objective='binary',\n",
    "    force_row_wise=True,\n",
    "    verbosity=-1,\n",
    "    **best_params\n",
    ")"
   ]
  },
  {
   "cell_type": "markdown",
   "metadata": {},
   "source": [
    "# Validation"
   ]
  },
  {
   "cell_type": "code",
   "execution_count": 45,
   "metadata": {},
   "outputs": [],
   "source": [
    "def mae_prob(y_true, y_pred_probs):\n",
    "    return mean_absolute_error(y_true, y_pred_probs)\n",
    "\n",
    "def medae_prob(y_true, y_pred_probs):\n",
    "    return median_absolute_error(y_true, y_pred_probs)\n",
    "\n",
    "mae_prob_scorer = make_scorer(mae_prob, needs_proba=True)\n",
    "medae_prob_scorer = make_scorer(medae_prob, needs_proba=True)"
   ]
  },
  {
   "cell_type": "code",
   "execution_count": 46,
   "metadata": {},
   "outputs": [
    {
     "name": "stdout",
     "output_type": "stream",
     "text": [
      "CV Average Brier score: 0.1014\n",
      "CV Average Log Loss: 0.3451\n",
      "CV Average Root Brier score: 0.3185\n",
      "CV MAE: 0.2011\n",
      "CV MedAE: 0.0962\n"
     ]
    }
   ],
   "source": [
    "scores_brier = cross_val_score(lgbm_best, X, y, cv=5, scoring='neg_brier_score')\n",
    "scores_log_loss = cross_val_score(lgbm_best, X, y, cv=5, scoring='neg_log_loss')\n",
    "scores_mae = cross_val_score(lgbm_best, X, y, cv=5, scoring=mae_prob_scorer)\n",
    "scores_medae = cross_val_score(lgbm_best, X, y, cv=5, scoring=medae_prob_scorer)\n",
    "\n",
    "print('CV Average Brier score: {0:0.4f}'.format(-np.mean(scores_brier)))\n",
    "print('CV Average Log Loss: {0:0.4f}'.format(-np.mean(scores_log_loss)))\n",
    "print('CV Average Root Brier score: {0:0.4f}'.format(np.sqrt(-np.mean(scores_brier))))\n",
    "print('CV MAE: {0:0.4f}'.format(np.mean(scores_mae)))\n",
    "print('CV MedAE: {0:0.4f}'.format(np.mean(scores_medae)))"
   ]
  },
  {
   "cell_type": "code",
   "execution_count": null,
   "metadata": {},
   "outputs": [],
   "source": []
  }
 ],
 "metadata": {
  "kernelspec": {
   "display_name": "Python 3",
   "language": "python",
   "name": "python3"
  },
  "language_info": {
   "codemirror_mode": {
    "name": "ipython",
    "version": 3
   },
   "file_extension": ".py",
   "mimetype": "text/x-python",
   "name": "python",
   "nbconvert_exporter": "python",
   "pygments_lexer": "ipython3",
   "version": "3.8.16"
  }
 },
 "nbformat": 4,
 "nbformat_minor": 2
}
