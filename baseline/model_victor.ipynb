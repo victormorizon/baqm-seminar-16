{
 "cells": [
  {
   "cell_type": "markdown",
   "metadata": {},
   "source": [
    "# Import Packages"
   ]
  },
  {
   "cell_type": "code",
   "execution_count": 24,
   "metadata": {},
   "outputs": [],
   "source": [
    "import pandas as pd\n",
    "import numpy as np\n",
    "import lightgbm as lgb\n",
    "import sklearn\n",
    "from sklearn.model_selection import train_test_split\n",
    "from sklearn.metrics import f1_score, confusion_matrix, roc_auc_score, ConfusionMatrixDisplay\n",
    "from sklearn.model_selection import cross_val_score\n",
    "import matplotlib.pyplot as plt\n",
    "from skopt import BayesSearchCV\n",
    "from skopt.space import Real, Integer, Categorical\n",
    "from datetime import datetime"
   ]
  },
  {
   "cell_type": "markdown",
   "metadata": {},
   "source": [
    "# Load Data"
   ]
  },
  {
   "cell_type": "code",
   "execution_count": 2,
   "metadata": {},
   "outputs": [],
   "source": [
    "df = pd.read_csv(\"../data/prepped_data.csv\", low_memory=False, index_col=0).drop_duplicates()\n",
    "\n",
    "df = df[df[\"welcome_discount\"] == 1]"
   ]
  },
  {
   "cell_type": "markdown",
   "metadata": {},
   "source": [
    "# Setup Model"
   ]
  },
  {
   "cell_type": "code",
   "execution_count": 3,
   "metadata": {},
   "outputs": [
    {
     "name": "stdout",
     "output_type": "stream",
     "text": [
      "Index(['policy_nr_hashed', 'welcome_discount', 'last_data_year',\n",
      "       'first_data_year', 'churn', 'control_group', 'first_premium',\n",
      "       'last_premium', 'first_split', 'last_split', 'last_customer_age',\n",
      "       'last_accident_free_years', 'last_car_value', 'last_age_car',\n",
      "       'last_brand', 'last_type', 'last_weight', 'last_fuel_type',\n",
      "       'last_postcode', 'last_product', 'last_allrisk basis',\n",
      "       'last_allrisk compleet', 'last_allrisk royaal', 'last_wa-extra',\n",
      "       'last_wettelijke aansprakelijkheid', 'nr_cars', 'fake_alarm',\n",
      "       'policyholder_change', 'max_nr_coverages', 'last_nr_coverages',\n",
      "       'last_trend_nr_coverages', 'accident_years', 'last_year_car_change',\n",
      "       'last_change_premium_abs', 'last_change_premium_perc',\n",
      "       'years_since_last_car_change', 'n_last_vs_peak', 'last_vs_first_split',\n",
      "       'lpa', 'cum_change_premium_abs', 'cum_change_premium_perc'],\n",
      "      dtype='object')\n"
     ]
    }
   ],
   "source": [
    "print(df.columns)"
   ]
  },
  {
   "cell_type": "code",
   "execution_count": 15,
   "metadata": {},
   "outputs": [
    {
     "name": "stdout",
     "output_type": "stream",
     "text": [
      "Binary Features: ['churn', 'last_allrisk basis', 'last_allrisk compleet', 'last_allrisk royaal', 'last_wa-extra', 'fake_alarm', 'policyholder_change', 'n_last_vs_peak', 'lpa']\n",
      "Categorical Features: ['last_data_year', 'first_data_year', 'control_group', 'last_fuel_type', 'last_product', 'nr_cars', 'max_nr_coverages', 'last_nr_coverages', 'last_trend_nr_coverages', 'last_year_car_change', 'years_since_last_car_change']\n",
      "Continuous Features: ['policy_nr_hashed', 'welcome_discount', 'first_premium', 'last_premium', 'first_split', 'last_split', 'last_customer_age', 'last_accident_free_years', 'last_car_value', 'last_age_car', 'last_brand', 'last_type', 'last_weight', 'last_postcode', 'last_wettelijke aansprakelijkheid', 'accident_years', 'last_change_premium_abs', 'last_change_premium_perc', 'last_vs_first_split', 'cum_change_premium_abs', 'cum_change_premium_perc']\n"
     ]
    }
   ],
   "source": [
    "categorical_features = []\n",
    "continuous_features = []\n",
    "binary_features = []\n",
    "\n",
    "# Define a threshold for the maximum number of unique values for a categorical column\n",
    "max_unique_values_for_categorical = 10\n",
    "\n",
    "# Iterate through each column to determine if it's categorical, continuous, or binary\n",
    "for column in df.columns:\n",
    "    unique_values = df[column].nunique()\n",
    "    if unique_values == 2:\n",
    "        # If exactly 2 unique values, treat column as binary\n",
    "        binary_features.append(column)\n",
    "    elif (df[column].dtype == 'object' or unique_values <= max_unique_values_for_categorical) and unique_values > 2:\n",
    "        # If object type or up to the threshold of unique values (and more than 2), treat as categorical\n",
    "        categorical_features.append(column)\n",
    "    else:\n",
    "        # Otherwise, treat as continuous\n",
    "        continuous_features.append(column)\n",
    "\n",
    "print(f'Binary Features: {binary_features}')\n",
    "print(f'Categorical Features: {categorical_features}')\n",
    "print(f'Continuous Features: {continuous_features}')\n",
    "\n",
    "for cat in categorical_features:\n",
    "     df[cat] = df[cat].astype(\"category\")"
   ]
  },
  {
   "cell_type": "code",
   "execution_count": 20,
   "metadata": {},
   "outputs": [],
   "source": [
    "X = df[[col for col in df.columns.to_list() if (col not in [\"churn\", \"policy_nr_hashed\", \"last_data_year\", \"first_data_year\", \"control_group\"])]]\n",
    "y = df['churn']\n",
    "\n",
    "X_train, X_test, y_train, y_test = train_test_split(X, y, test_size = 0.3, random_state = 0)"
   ]
  },
  {
   "cell_type": "markdown",
   "metadata": {},
   "source": [
    "# Model Selection"
   ]
  },
  {
   "cell_type": "code",
   "execution_count": 26,
   "metadata": {},
   "outputs": [
    {
     "name": "stdout",
     "output_type": "stream",
     "text": [
      "Best Score is:  0.7386840581430965 \n",
      "\n",
      "Best Parameters:  OrderedDict([('colsample_bytree', 0.6192000440731456), ('learning_rate', 0.01), ('max_depth', 20), ('min_child_samples', 75), ('min_split_gain', 0.30931003717244154), ('num_leaves', 200), ('reg_alpha', 0.0), ('reg_lambda', 0.0), ('subsample', 1.0), ('subsample_freq', 1)]) \n",
      "\n"
     ]
    }
   ],
   "source": [
    "clf = lgb.LGBMClassifier(\n",
    "    objective='binary',\n",
    "    force_row_wise=True,\n",
    "    verbosity=-1,\n",
    "    n_estimators=50,\n",
    "    is_unbalance=True,\n",
    ")\n",
    "\n",
    "opt = BayesSearchCV(\n",
    "    clf, \n",
    "    {\n",
    "        \"max_depth\": Integer(10, 20),\n",
    "        \"num_leaves\": Integer(20, 200),\n",
    "        \"min_child_samples\": Integer(7, 75),\n",
    "        \"colsample_bytree\": Real(0.25, 1),\n",
    "        \"subsample\": Real(0.25, 1),\n",
    "        \"subsample_freq\": Integer(1, 50),\n",
    "        \"reg_alpha\": Real(0, 1),\n",
    "        \"reg_lambda\": Real(0, 1),\n",
    "        \"min_split_gain\": Real(0, 0.5),\n",
    "        \"learning_rate\": Real(0.01, 1)\n",
    "    },\n",
    "    n_iter = 50,\n",
    "    cv = 5,\n",
    "    n_jobs = -1,\n",
    "    scoring = \"roc_auc\",\n",
    "    random_state = 0,\n",
    ")\n",
    "\n",
    "opt.fit(X_train, y_train)\n",
    "\n",
    "print(\"Best Score is: \", opt.best_score_, \"\\n\")\n",
    "\n",
    "print(\"Best Parameters: \", opt.best_params_, \"\\n\")\n",
    "\n",
    "lgbm_best = opt.best_estimator_\n",
    "\n",
    "# scores_f1 = cross_val_score(clf, X_train, y_train, cv=5, scoring='f1', n_jobs=-1)\n",
    "# scores_roc_auc = cross_val_score(clf, X_train, y_train, cv=5, scoring='roc_auc')\n",
    "# print('CV Average F1 score: {0:0.4f}'.format(np.mean(scores_f1)))\n",
    "# print('CV Average ROC/AUC score: {0:0.4f}'.format(np.mean(scores_roc_auc)))"
   ]
  },
  {
   "cell_type": "markdown",
   "metadata": {},
   "source": [
    "# Validation"
   ]
  },
  {
   "cell_type": "code",
   "execution_count": 27,
   "metadata": {},
   "outputs": [
    {
     "name": "stdout",
     "output_type": "stream",
     "text": [
      "LightGBM Model F1 score: 0.0000\n",
      "LightGBM Model ROC/AUC score: 0.5000\n"
     ]
    },
    {
     "data": {
      "image/png": "[encoded data removed]",
      "text/plain": [
       "<Figure size 640x480 with 2 Axes>"
      ]
     },
     "metadata": {},
     "output_type": "display_data"
    }
   ],
   "source": [
    "lgbm_best.fit(X_train, y_train)\n",
    "\n",
    "y_pred = lgbm_best.predict(X_test)\n",
    "print('LightGBM Model F1 score: {0:0.4f}'.format(f1_score(y_test, y_pred)))\n",
    "print('LightGBM Model ROC/AUC score: {0:0.4f}'.format(roc_auc_score(y_test, y_pred)))\n",
    "\n",
    "cm = confusion_matrix(y_test, y_pred)\n",
    "disp = ConfusionMatrixDisplay(confusion_matrix=cm, display_labels=lgbm_best.classes_)\n",
    "disp.plot()\n",
    "plt.show()"
   ]
  },
  {
   "cell_type": "code",
   "execution_count": null,
   "metadata": {},
   "outputs": [],
   "source": []
  }
 ],
 "metadata": {
  "kernelspec": {
   "display_name": "Python 3",
   "language": "python",
   "name": "python3"
  },
  "language_info": {
   "codemirror_mode": {
    "name": "ipython",
    "version": 3
   },
   "file_extension": ".py",
   "mimetype": "text/x-python",
   "name": "python",
   "nbconvert_exporter": "python",
   "pygments_lexer": "ipython3",
   "version": "3.8.18"
  }
 },
 "nbformat": 4,
 "nbformat_minor": 2
}
