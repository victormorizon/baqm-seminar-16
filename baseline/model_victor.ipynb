{
 "cells": [
  {
   "cell_type": "markdown",
   "metadata": {},
   "source": [
    "# Import Packages"
   ]
  },
  {
   "cell_type": "code",
   "execution_count": 206,
   "metadata": {},
   "outputs": [],
   "source": [
    "import pandas as pd\n",
    "import numpy as np\n",
    "import lightgbm as lgb\n",
    "import sklearn\n",
    "from sklearn.model_selection import train_test_split\n",
    "from sklearn.metrics import f1_score, confusion_matrix, roc_auc_score, ConfusionMatrixDisplay, average_precision_score, make_scorer\n",
    "from sklearn.model_selection import cross_val_score\n",
    "import matplotlib.pyplot as plt\n",
    "from skopt import BayesSearchCV\n",
    "from skopt.space import Real, Integer, Categorical"
   ]
  },
  {
   "cell_type": "markdown",
   "metadata": {},
   "source": [
    "# Load Data"
   ]
  },
  {
   "cell_type": "code",
   "execution_count": 252,
   "metadata": {},
   "outputs": [],
   "source": [
    "df = pd.read_csv(\"../data/prepped_data.csv\", low_memory=False, index_col=0).drop_duplicates()\n",
    "\n",
    "df = df[df[\"welcome_discount\"] == 1]"
   ]
  },
  {
   "cell_type": "markdown",
   "metadata": {},
   "source": [
    "# Setup Model"
   ]
  },
  {
   "cell_type": "code",
   "execution_count": 162,
   "metadata": {},
   "outputs": [
    {
     "name": "stdout",
     "output_type": "stream",
     "text": [
      "Index(['policy_nr_hashed', 'welcome_discount', 'last_data_year',\n",
      "       'first_data_year', 'churn', 'control_group', 'first_premium',\n",
      "       'last_premium', 'first_split', 'last_split', 'last_customer_age',\n",
      "       'last_accident_free_years', 'last_car_value', 'last_age_car',\n",
      "       'last_brand', 'last_type', 'last_weight', 'last_fuel_type',\n",
      "       'last_postcode', 'last_product', 'last_allrisk basis',\n",
      "       'last_allrisk compleet', 'last_allrisk royaal', 'last_wa-extra',\n",
      "       'last_wettelijke aansprakelijkheid', 'nr_cars', 'fake_alarm',\n",
      "       'policyholder_change', 'max_nr_coverages', 'last_nr_coverages',\n",
      "       'accident_years', 'last_year_car_change', 'n_last_vs_peak',\n",
      "       'last_vs_first_split', 'lpa', 'cum_change_premium_abs',\n",
      "       'cum_change_premium_perc'],\n",
      "      dtype='object')\n"
     ]
    }
   ],
   "source": [
    "print(df.columns)"
   ]
  },
  {
   "cell_type": "code",
   "execution_count": 253,
   "metadata": {},
   "outputs": [
    {
     "name": "stdout",
     "output_type": "stream",
     "text": [
      "Binary Features: ['churn', 'last_allrisk basis', 'last_allrisk compleet', 'last_allrisk royaal', 'last_wa-extra', 'fake_alarm', 'policyholder_change', 'n_last_vs_peak', 'lpa']\n",
      "Categorical Features: ['policy_nr_hashed', 'last_data_year', 'first_data_year', 'control_group', 'last_brand', 'last_type', 'last_fuel_type', 'last_postcode', 'last_product', 'nr_cars', 'max_nr_coverages', 'last_nr_coverages', 'last_trend_nr_coverages', 'last_year_car_change', 'years_since_last_car_change']\n",
      "Continuous Features: ['welcome_discount', 'first_premium', 'last_premium', 'first_split', 'last_split', 'last_customer_age', 'last_accident_free_years', 'last_car_value', 'last_age_car', 'last_weight', 'last_wettelijke aansprakelijkheid', 'accident_years', 'last_change_premium_abs', 'last_change_premium_perc', 'last_vs_first_split', 'cum_change_premium_abs', 'cum_change_premium_perc']\n"
     ]
    }
   ],
   "source": [
    "categorical_features = []\n",
    "continuous_features = []\n",
    "binary_features = []\n",
    "\n",
    "# Define a threshold for the maximum number of unique values for a categorical column\n",
    "max_unique_values_for_categorical = 10\n",
    "\n",
    "# Iterate through each column to determine if it's categorical, continuous, or binary\n",
    "for column in df.columns:\n",
    "    unique_values = df[column].nunique()\n",
    "    if unique_values == 2:\n",
    "        # If exactly 2 unique values, treat column as binary\n",
    "        binary_features.append(column)\n",
    "    elif (df[column].dtype == 'object' or unique_values <= max_unique_values_for_categorical) and unique_values > 2:\n",
    "        # If object type or up to the threshold of unique values (and more than 2), treat as categorical\n",
    "        categorical_features.append(column)\n",
    "    else:\n",
    "        # Otherwise, treat as continuous\n",
    "        continuous_features.append(column)\n",
    "\n",
    "print(f'Binary Features: {binary_features}')\n",
    "print(f'Categorical Features: {categorical_features}')\n",
    "print(f'Continuous Features: {continuous_features}')\n",
    "\n",
    "df = pd.get_dummies(df, columns=categorical_features)"
   ]
  },
  {
   "cell_type": "code",
   "execution_count": 262,
   "metadata": {},
   "outputs": [],
   "source": [
    "cols_to_drop_manual = [\"first_split\", \"first_premium\", \"nr_cars\", \"last_type\", \"last_brand\", 'last_weight', 'n_last_vs_peak', 'last_fuel_type', 'last_trend_nr_coverages', 'last_change_premium_abs', 'last_change_premium_perc', 'max_nr_coverages', 'last_nr_coverages',]\n",
    "cols_to_drop = [\"churn\", \"policy_nr_hashed\", \"last_data_year\", \"first_data_year\", \"control_group\"]\n",
    "selected_columns = [col for col in df.columns if not any(col.startswith(prefix) for prefix in cols_to_drop)]\n",
    "\n",
    "X = df[selected_columns]\n",
    "y = df['churn']\n",
    "\n",
    "X_train, X_test, y_train, y_test = train_test_split(X, y, test_size = 0.3, random_state = 0)"
   ]
  },
  {
   "cell_type": "markdown",
   "metadata": {},
   "source": [
    "# Model Selection"
   ]
  },
  {
   "cell_type": "code",
   "execution_count": 263,
   "metadata": {},
   "outputs": [
    {
     "name": "stdout",
     "output_type": "stream",
     "text": [
      "Best Score is:  0.2351391773537682 \n",
      "\n",
      "Best Parameters:  OrderedDict([('colsample_bytree', 0.9333777283315435), ('learning_rate', 0.05779368635183092), ('max_depth', 99), ('min_child_samples', 97), ('min_data_in_leaf', 12), ('min_split_gain', 0.38192706964747264), ('num_leaves', 24), ('reg_alpha', 0.19992427397846138), ('reg_lambda', 0.06463541213507383), ('subsample', 0.9934013261307364), ('subsample_freq', 42)]) \n",
      "\n"
     ]
    }
   ],
   "source": [
    "clf = lgb.LGBMClassifier(\n",
    "    objective='binary',\n",
    "    force_row_wise=True,\n",
    "    verbosity=-1,\n",
    "    n_estimators=50,\n",
    "    is_unbalance=True,\n",
    "    # learning_rate=0.05,\n",
    "    reg_alpha=0,\n",
    "    reg_lambda=0\n",
    ")\n",
    "\n",
    "opt = BayesSearchCV(\n",
    "    clf, \n",
    "    {\n",
    "        \"max_depth\": Integer(50, 100),\n",
    "        \"num_leaves\": Integer(20, 200),\n",
    "        \"min_child_samples\": Integer(7, 100),\n",
    "        \"colsample_bytree\": Real(0.25, 1),\n",
    "        \"subsample\": Real(0.25, 1),\n",
    "        \"subsample_freq\": Integer(1, 50),\n",
    "        \"reg_alpha\": Real(0, 0.2),\n",
    "        \"reg_lambda\": Real(0, 0.2),\n",
    "        \"min_split_gain\": Real(0, 0.5),\n",
    "        \"learning_rate\": Real(0.01, 0.1),\n",
    "        \"min_data_in_leaf\": Integer(1, 20)\n",
    "    },\n",
    "    n_iter=50,\n",
    "    cv=5,\n",
    "    n_jobs=-1,\n",
    "    scoring=\"average_precision\",\n",
    "    random_state = 0,\n",
    ")\n",
    "\n",
    "opt.fit(X_train, y_train)\n",
    "\n",
    "print(\"Best Score is: \", opt.best_score_, \"\\n\")\n",
    "print(\"Best Parameters: \", opt.best_params_, \"\\n\")\n",
    "\n",
    "lgbm_best = opt.best_estimator_"
   ]
  },
  {
   "cell_type": "markdown",
   "metadata": {},
   "source": [
    "# Validation"
   ]
  },
  {
   "cell_type": "code",
   "execution_count": 240,
   "metadata": {},
   "outputs": [
    {
     "name": "stdout",
     "output_type": "stream",
     "text": [
      "CV Average F1 score: nan\n",
      "CV Average AUC-PR score: 0.2353\n",
      "[nan nan nan nan nan]\n"
     ]
    }
   ],
   "source": [
    "def custom_f1(y_true, y_pred_prob, threshold=0.5):\n",
    "    y_pred = np.abs(np.ceil(np.array(y_pred_prob[:, 1]) - threshold)).astype(\"int\")\n",
    "    return f1_score(y_true, y_pred)\n",
    "\n",
    "threshold = 0.6\n",
    "custom_f1_scorer = make_scorer(custom_f1, response_method='predict_proba', threshold=threshold)\n",
    "\n",
    "scores_f1 = cross_val_score(clf, X, y, cv=5, scoring=custom_f1_scorer, n_jobs=-1)\n",
    "scores_auc = cross_val_score(clf, X, y, cv=5, scoring='average_precision', n_jobs=-1)\n",
    "print('CV Average F1 score: {0:0.4f}'.format(np.mean(scores_f1)))\n",
    "print('CV Average AUC-PR score: {0:0.4f}'.format(np.mean(scores_auc)))\n",
    "\n",
    "print(scores_f1)"
   ]
  },
  {
   "cell_type": "code",
   "execution_count": 265,
   "metadata": {},
   "outputs": [
    {
     "name": "stdout",
     "output_type": "stream",
     "text": [
      "LightGBM Model F1 score: 0.2809\n",
      "LightGBM Model AUC-PR score: 0.2138\n",
      "LightGBM Model AUC-ROC score: 0.7310\n"
     ]
    },
    {
     "data": {
      "image/png": "[encoded data removed]",
      "text/plain": [
       "<Figure size 640x480 with 2 Axes>"
      ]
     },
     "metadata": {},
     "output_type": "display_data"
    }
   ],
   "source": [
    "lgbm_best.fit(X_train, y_train)\n",
    "\n",
    "threshold = 0.6\n",
    "probabilities = lgbm_best.predict_proba(X_test)[:, 1]\n",
    "y_pred = np.abs(np.ceil(np.array(probabilities) - threshold)).astype(\"int\")\n",
    "\n",
    "print('LightGBM Model F1 score: {0:0.4f}'.format(f1_score(y_test, y_pred)))\n",
    "print('LightGBM Model AUC-PR score: {0:0.4f}'.format(average_precision_score(y_test, lgbm_best.predict_proba(X_test)[:, 1])))\n",
    "print('LightGBM Model AUC-ROC score: {0:0.4f}'.format(roc_auc_score(y_test, lgbm_best.predict_proba(X_test)[:, 1])))\n",
    "\n",
    "cm = confusion_matrix(y_test, y_pred)\n",
    "disp = ConfusionMatrixDisplay(confusion_matrix=cm, display_labels=lgbm_best.classes_)\n",
    "disp.plot()\n",
    "plt.show()"
   ]
  },
  {
   "cell_type": "code",
   "execution_count": null,
   "metadata": {},
   "outputs": [],
   "source": []
  }
 ],
 "metadata": {
  "kernelspec": {
   "display_name": "Python 3",
   "language": "python",
   "name": "python3"
  },
  "language_info": {
   "codemirror_mode": {
    "name": "ipython",
    "version": 3
   },
   "file_extension": ".py",
   "mimetype": "text/x-python",
   "name": "python",
   "nbconvert_exporter": "python",
   "pygments_lexer": "ipython3",
   "version": "3.8.18"
  }
 },
 "nbformat": 4,
 "nbformat_minor": 2
}
