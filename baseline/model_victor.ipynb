{
 "cells": [
  {
   "cell_type": "markdown",
   "metadata": {},
   "source": [
    "# Import Packages"
   ]
  },
  {
   "cell_type": "code",
   "execution_count": 108,
   "metadata": {},
   "outputs": [],
   "source": [
    "import pandas as pd\n",
    "import numpy as np\n",
    "import lightgbm as lgb\n",
    "from sklearn.model_selection import train_test_split\n",
    "from sklearn.metrics import f1_score, confusion_matrix, roc_auc_score, ConfusionMatrixDisplay\n",
    "from sklearn.model_selection import cross_val_score\n",
    "import matplotlib.pyplot as plt"
   ]
  },
  {
   "cell_type": "markdown",
   "metadata": {},
   "source": [
    "# Load Data"
   ]
  },
  {
   "cell_type": "code",
   "execution_count": 109,
   "metadata": {},
   "outputs": [],
   "source": [
    "df = pd.read_csv(\"../data/prepped_data.csv\", low_memory=False, index_col=0).drop_duplicates()"
   ]
  },
  {
   "cell_type": "markdown",
   "metadata": {},
   "source": [
    "# Setup Model"
   ]
  },
  {
   "cell_type": "code",
   "execution_count": 110,
   "metadata": {},
   "outputs": [
    {
     "name": "stdout",
     "output_type": "stream",
     "text": [
      "Index(['policy_nr_hashed', 'welcome_discount', 'last_data_year',\n",
      "       'years_to_churn', 'control_group', 'first_premium', 'first_split',\n",
      "       'first_customer_age', 'first_accident_free_years', 'first_car_value',\n",
      "       'first_age_car', 'first_brand', 'first_type', 'first_weight',\n",
      "       'first_fuel_type', 'first_postcode', 'first_product',\n",
      "       'first_allrisk basis', 'first_allrisk compleet', 'first_allrisk royaal',\n",
      "       'first_wa-extra', 'first_wettelijke aansprakelijkheid', 'nr_cars',\n",
      "       'fake_alarm', 'policyholder_change', 'max_nr_coverages',\n",
      "       'accident_years', 'last_year_car_change', 'years_since_last_car_change',\n",
      "       'lpa'],\n",
      "      dtype='object')\n"
     ]
    }
   ],
   "source": [
    "print(df.columns)"
   ]
  },
  {
   "cell_type": "code",
   "execution_count": 140,
   "metadata": {},
   "outputs": [
    {
     "data": {
      "text/html": [
       "<div>\n",
       "<style scoped>\n",
       "    .dataframe tbody tr th:only-of-type {\n",
       "        vertical-align: middle;\n",
       "    }\n",
       "\n",
       "    .dataframe tbody tr th {\n",
       "        vertical-align: top;\n",
       "    }\n",
       "\n",
       "    .dataframe thead th {\n",
       "        text-align: right;\n",
       "    }\n",
       "</style>\n",
       "<table border=\"1\" class=\"dataframe\">\n",
       "  <thead>\n",
       "    <tr style=\"text-align: right;\">\n",
       "      <th></th>\n",
       "      <th>policy_nr_hashed</th>\n",
       "      <th>welcome_discount</th>\n",
       "      <th>last_data_year</th>\n",
       "      <th>control_group</th>\n",
       "      <th>first_premium</th>\n",
       "      <th>first_split</th>\n",
       "      <th>first_customer_age</th>\n",
       "      <th>first_accident_free_years</th>\n",
       "      <th>first_car_value</th>\n",
       "      <th>first_age_car</th>\n",
       "      <th>...</th>\n",
       "      <th>first_wa-extra</th>\n",
       "      <th>first_wettelijke aansprakelijkheid</th>\n",
       "      <th>nr_cars</th>\n",
       "      <th>fake_alarm</th>\n",
       "      <th>policyholder_change</th>\n",
       "      <th>max_nr_coverages</th>\n",
       "      <th>accident_years</th>\n",
       "      <th>last_year_car_change</th>\n",
       "      <th>years_since_last_car_change</th>\n",
       "      <th>lpa</th>\n",
       "    </tr>\n",
       "    <tr>\n",
       "      <th>years_to_churn</th>\n",
       "      <th></th>\n",
       "      <th></th>\n",
       "      <th></th>\n",
       "      <th></th>\n",
       "      <th></th>\n",
       "      <th></th>\n",
       "      <th></th>\n",
       "      <th></th>\n",
       "      <th></th>\n",
       "      <th></th>\n",
       "      <th></th>\n",
       "      <th></th>\n",
       "      <th></th>\n",
       "      <th></th>\n",
       "      <th></th>\n",
       "      <th></th>\n",
       "      <th></th>\n",
       "      <th></th>\n",
       "      <th></th>\n",
       "      <th></th>\n",
       "      <th></th>\n",
       "    </tr>\n",
       "  </thead>\n",
       "  <tbody>\n",
       "    <tr>\n",
       "      <th>0</th>\n",
       "      <td>57488</td>\n",
       "      <td>57488</td>\n",
       "      <td>57488</td>\n",
       "      <td>57488</td>\n",
       "      <td>57488</td>\n",
       "      <td>57486</td>\n",
       "      <td>57488</td>\n",
       "      <td>57488</td>\n",
       "      <td>57488</td>\n",
       "      <td>57488</td>\n",
       "      <td>...</td>\n",
       "      <td>57488</td>\n",
       "      <td>57488</td>\n",
       "      <td>57488</td>\n",
       "      <td>57488</td>\n",
       "      <td>57488</td>\n",
       "      <td>57488</td>\n",
       "      <td>57488</td>\n",
       "      <td>57488</td>\n",
       "      <td>3113</td>\n",
       "      <td>57488</td>\n",
       "    </tr>\n",
       "    <tr>\n",
       "      <th>1</th>\n",
       "      <td>3591</td>\n",
       "      <td>3591</td>\n",
       "      <td>3591</td>\n",
       "      <td>3591</td>\n",
       "      <td>3591</td>\n",
       "      <td>3591</td>\n",
       "      <td>3591</td>\n",
       "      <td>3591</td>\n",
       "      <td>3591</td>\n",
       "      <td>3591</td>\n",
       "      <td>...</td>\n",
       "      <td>3591</td>\n",
       "      <td>3591</td>\n",
       "      <td>3591</td>\n",
       "      <td>3591</td>\n",
       "      <td>3591</td>\n",
       "      <td>3591</td>\n",
       "      <td>3591</td>\n",
       "      <td>3591</td>\n",
       "      <td>197</td>\n",
       "      <td>3591</td>\n",
       "    </tr>\n",
       "    <tr>\n",
       "      <th>2</th>\n",
       "      <td>567</td>\n",
       "      <td>567</td>\n",
       "      <td>567</td>\n",
       "      <td>567</td>\n",
       "      <td>567</td>\n",
       "      <td>567</td>\n",
       "      <td>567</td>\n",
       "      <td>567</td>\n",
       "      <td>567</td>\n",
       "      <td>567</td>\n",
       "      <td>...</td>\n",
       "      <td>567</td>\n",
       "      <td>567</td>\n",
       "      <td>567</td>\n",
       "      <td>567</td>\n",
       "      <td>567</td>\n",
       "      <td>567</td>\n",
       "      <td>567</td>\n",
       "      <td>567</td>\n",
       "      <td>70</td>\n",
       "      <td>567</td>\n",
       "    </tr>\n",
       "    <tr>\n",
       "      <th>3</th>\n",
       "      <td>10</td>\n",
       "      <td>10</td>\n",
       "      <td>10</td>\n",
       "      <td>10</td>\n",
       "      <td>10</td>\n",
       "      <td>10</td>\n",
       "      <td>10</td>\n",
       "      <td>10</td>\n",
       "      <td>10</td>\n",
       "      <td>10</td>\n",
       "      <td>...</td>\n",
       "      <td>10</td>\n",
       "      <td>10</td>\n",
       "      <td>10</td>\n",
       "      <td>10</td>\n",
       "      <td>10</td>\n",
       "      <td>10</td>\n",
       "      <td>10</td>\n",
       "      <td>10</td>\n",
       "      <td>5</td>\n",
       "      <td>10</td>\n",
       "    </tr>\n",
       "  </tbody>\n",
       "</table>\n",
       "<p>4 rows × 29 columns</p>\n",
       "</div>"
      ],
      "text/plain": [
       "                policy_nr_hashed  welcome_discount  last_data_year  \\\n",
       "years_to_churn                                                       \n",
       "0                          57488             57488           57488   \n",
       "1                           3591              3591            3591   \n",
       "2                            567               567             567   \n",
       "3                             10                10              10   \n",
       "\n",
       "                control_group  first_premium  first_split  first_customer_age  \\\n",
       "years_to_churn                                                                  \n",
       "0                       57488          57488        57486               57488   \n",
       "1                        3591           3591         3591                3591   \n",
       "2                         567            567          567                 567   \n",
       "3                          10             10           10                  10   \n",
       "\n",
       "                first_accident_free_years  first_car_value  first_age_car  \\\n",
       "years_to_churn                                                              \n",
       "0                                   57488            57488          57488   \n",
       "1                                    3591             3591           3591   \n",
       "2                                     567              567            567   \n",
       "3                                      10               10             10   \n",
       "\n",
       "                ...  first_wa-extra  first_wettelijke aansprakelijkheid  \\\n",
       "years_to_churn  ...                                                       \n",
       "0               ...           57488                               57488   \n",
       "1               ...            3591                                3591   \n",
       "2               ...             567                                 567   \n",
       "3               ...              10                                  10   \n",
       "\n",
       "                nr_cars  fake_alarm  policyholder_change  max_nr_coverages  \\\n",
       "years_to_churn                                                               \n",
       "0                 57488       57488                57488             57488   \n",
       "1                  3591        3591                 3591              3591   \n",
       "2                   567         567                  567               567   \n",
       "3                    10          10                   10                10   \n",
       "\n",
       "                accident_years  last_year_car_change  \\\n",
       "years_to_churn                                         \n",
       "0                        57488                 57488   \n",
       "1                         3591                  3591   \n",
       "2                          567                   567   \n",
       "3                           10                    10   \n",
       "\n",
       "                years_since_last_car_change    lpa  \n",
       "years_to_churn                                      \n",
       "0                                      3113  57488  \n",
       "1                                       197   3591  \n",
       "2                                        70    567  \n",
       "3                                         5     10  \n",
       "\n",
       "[4 rows x 29 columns]"
      ]
     },
     "metadata": {},
     "output_type": "display_data"
    }
   ],
   "source": [
    "display(df.groupby(\"years_to_churn\").count())"
   ]
  },
  {
   "cell_type": "code",
   "execution_count": 133,
   "metadata": {},
   "outputs": [],
   "source": [
    "df[\"first_product\"] = df[\"first_product\"].astype(\"category\")\n",
    "df[\"first_brand\"] = df[\"first_brand\"].astype(\"category\")\n",
    "\n",
    "X = df[['welcome_discount','first_split','nr_cars', \"first_premium\", \"first_age_car\", \"first_car_value\", \"first_weight\", \"first_product\", \"first_brand\"]]\n",
    "y = df['years_to_churn']\n",
    "\n",
    "X_train, X_test, y_train, y_test = train_test_split(X, y, test_size = 0.3, random_state = 0)\n",
    "lgtrain = lgb.Dataset(X_train, label=y_train, categorical_feature=[\"first_product\", \"first_brand\"])"
   ]
  },
  {
   "cell_type": "markdown",
   "metadata": {},
   "source": [
    "# Model Selection"
   ]
  },
  {
   "cell_type": "code",
   "execution_count": 135,
   "metadata": {},
   "outputs": [
    {
     "name": "stdout",
     "output_type": "stream",
     "text": [
      "CV Average F1 score: 0.2702\n"
     ]
    }
   ],
   "source": [
    "clf = lgb.LGBMClassifier(\n",
    "    objective='multiclass',\n",
    "    force_row_wise=True,\n",
    "    num_leaves=100,\n",
    "    verbosity=-1,\n",
    ")\n",
    "\n",
    "scores_f1 = cross_val_score(clf, X_train, y_train, cv=5, scoring='f1_macro', n_jobs=-1)\n",
    "# scores_roc_auc = cross_val_score(clf, X_train, y_train, cv=5, scoring='roc_auc')\n",
    "\n",
    "print('CV Average F1 score: {0:0.4f}'.format(np.mean(scores_f1)))\n",
    "# print('CV Average ROC/AUC score: {0:0.4f}'.format(np.mean(scores_roc_auc)))"
   ]
  },
  {
   "cell_type": "markdown",
   "metadata": {},
   "source": [
    "# Validation"
   ]
  },
  {
   "cell_type": "code",
   "execution_count": 138,
   "metadata": {},
   "outputs": [
    {
     "name": "stdout",
     "output_type": "stream",
     "text": [
      "[[1.00000000e+000 2.98438405e-167 1.60893775e-168 0.00000000e+000]\n",
      " [9.88987528e-001 1.09722046e-002 4.02675499e-005 0.00000000e+000]\n",
      " [9.85985268e-001 1.39874834e-002 2.72483642e-005 1.68723982e-216]\n",
      " ...\n",
      " [9.93585561e-001 5.46984991e-003 9.44589220e-004 0.00000000e+000]\n",
      " [9.70649989e-001 2.60173698e-002 3.33264145e-003 0.00000000e+000]\n",
      " [9.99974925e-001 2.28643713e-005 2.21089492e-006 0.00000000e+000]]\n"
     ]
    }
   ],
   "source": [
    "clf.fit(X_train, y_train)\n",
    "\n",
    "print(clf.predict_proba(X_test))"
   ]
  },
  {
   "cell_type": "code",
   "execution_count": 139,
   "metadata": {},
   "outputs": [
    {
     "name": "stdout",
     "output_type": "stream",
     "text": [
      "LightGBM Model F1 score: 0.2763\n"
     ]
    },
    {
     "data": {
      "image/png": "[encoded data removed]",
      "text/plain": [
       "<Figure size 640x480 with 2 Axes>"
      ]
     },
     "metadata": {},
     "output_type": "display_data"
    }
   ],
   "source": [
    "clf.fit(X_train, y_train)\n",
    "\n",
    "y_pred = clf.predict(X_test)\n",
    "print('LightGBM Model F1 score: {0:0.4f}'.format(f1_score(y_test, y_pred, average=\"macro\")))\n",
    "# print('LightGBM Model ROC/AUC score: {0:0.4f}'.format(roc_auc_score(y_test, y_pred)))\n",
    "\n",
    "cm = confusion_matrix(y_test, y_pred)\n",
    "disp = ConfusionMatrixDisplay(confusion_matrix=cm, display_labels=clf.classes_)\n",
    "disp.plot()\n",
    "plt.show()"
   ]
  },
  {
   "cell_type": "code",
   "execution_count": null,
   "metadata": {},
   "outputs": [],
   "source": []
  }
 ],
 "metadata": {
  "kernelspec": {
   "display_name": "Python 3",
   "language": "python",
   "name": "python3"
  },
  "language_info": {
   "codemirror_mode": {
    "name": "ipython",
    "version": 3
   },
   "file_extension": ".py",
   "mimetype": "text/x-python",
   "name": "python",
   "nbconvert_exporter": "python",
   "pygments_lexer": "ipython3",
   "version": "3.8.18"
  }
 },
 "nbformat": 4,
 "nbformat_minor": 2
}
