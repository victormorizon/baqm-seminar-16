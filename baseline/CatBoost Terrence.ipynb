{
 "cells": [
  {
   "cell_type": "code",
   "execution_count": null,
   "id": "dff308b6",
   "metadata": {},
   "outputs": [],
   "source": [
    "import numpy as np\n",
    "import pandas as pd\n",
    "import matplotlib.pyplot as plt\n",
    "from catboost import CatBoostClassifier, Pool\n",
    "from sklearn.model_selection import train_test_split\n",
    "from sklearn.metrics import accuracy_score\n",
    "from sklearn.metrics import confusion_matrix\n",
    "from sklearn.metrics import f1_score\n",
    "from sklearn.metrics import roc_curve, auc\n",
    "data_raw = pd.read_csv('prepped_data.csv', low_memory=False)\n",
    "\n",
    "(data_raw)"
   ]
  },
  {
   "cell_type": "code",
   "execution_count": null,
   "id": "a92d3ba5",
   "metadata": {},
   "outputs": [],
   "source": [
    "\n",
    "data_raw = data_raw[data_raw['welcome_discount'] == 1.0]\n",
    "\n",
    "data_raw = data_raw.dropna(axis=1)\n",
    "categorical_columns = ['last_brand', 'last_type', 'last_fuel_type']\n",
    "data_raw = pd.get_dummies(data_raw, columns=categorical_columns)\n",
    "columns_to_drop = ['Unnamed: 0', 'policy_nr_hashed', 'last_data_year', 'first_data_year', 'control_group', 'last_product']\n",
    "data = data_raw.drop(columns=columns_to_drop, axis=1)\n",
    "\n",
    "# Rest of your code\n",
    "y = data['churn']\n",
    "X = data.drop('churn', axis=1)\n",
    "\n",
    "X_train, X_test, y_train, y_test = train_test_split(X, y, test_size=0.2, random_state=42)\n",
    "\n",
    "model = CatBoostClassifier(iterations=100,\n",
    "                           learning_rate=0.1,\n",
    "                           depth=10,\n",
    "                           loss_function='Logloss',\n",
    "                           auto_class_weights='Balanced',  # This will handle the class imbalance\n",
    "                           random_state=42)  # For reproducibility\n",
    "\n",
    "model.fit(X_train, y_train, verbose=False)\n",
    "\n",
    "predictions = model.predict(X_test)\n",
    "cm = confusion_matrix(y_test, predictions)\n",
    "f1 = f1_score(y_test, predictions, average='weighted')\n",
    "\n",
    "print(\"Confusion Matrix:\\n\", cm)\n",
    "print(\"F1 Score:\", f1)"
   ]
  },
  {
   "cell_type": "code",
   "execution_count": null,
   "id": "66c0e56e",
   "metadata": {
    "scrolled": true
   },
   "outputs": [],
   "source": [
    "probabilities = model.predict_proba(X_test)[:, 1]\n",
    "fpr, tpr, thresholds = roc_curve(y_test, probabilities)\n",
    "roc_auc = auc(fpr, tpr)\n",
    "\n",
    "plt.figure(figsize=(4, 4))\n",
    "plt.plot(fpr, tpr, color='darkorange', lw=2, label='ROC curve (area = %0.2f)' % roc_auc)\n",
    "plt.plot([0, 1], [0, 1], color='navy', lw=2, linestyle='--')\n",
    "plt.xlim([0.0, 1.0])\n",
    "plt.ylim([0.0, 1.05])\n",
    "plt.xlabel('False Positive Rate')\n",
    "plt.ylabel('True Positive Rate')\n",
    "plt.title('Receiver Operating Characteristic')\n",
    "plt.legend(loc=\"lower right\")\n",
    "plt.show()"
   ]
  },
  {
   "cell_type": "code",
   "execution_count": null,
   "id": "6a7975e0",
   "metadata": {},
   "outputs": [],
   "source": [
    "print(\"Confusion Matrix:\\n\", cm)\n",
    "print(\"F1 Score:\", f1)"
   ]
  },
  {
   "cell_type": "code",
   "execution_count": null,
   "id": "3fb2813a",
   "metadata": {},
   "outputs": [],
   "source": [
    "np.sum(cm[0]) + np.sum(cm[1])"
   ]
  },
  {
   "cell_type": "code",
   "execution_count": null,
   "id": "8b639772",
   "metadata": {},
   "outputs": [],
   "source": [
    "len(data) * 0.2"
   ]
  },
  {
   "cell_type": "code",
   "execution_count": null,
   "id": "2e1ef875",
   "metadata": {},
   "outputs": [],
   "source": [
    "data"
   ]
  },
  {
   "cell_type": "code",
   "execution_count": null,
   "id": "3e77fe11",
   "metadata": {},
   "outputs": [],
   "source": []
  }
 ],
 "metadata": {
  "kernelspec": {
   "display_name": "Python 3 (ipykernel)",
   "language": "python",
   "name": "python3"
  },
  "language_info": {
   "codemirror_mode": {
    "name": "ipython",
    "version": 3
   },
   "file_extension": ".py",
   "mimetype": "text/x-python",
   "name": "python",
   "nbconvert_exporter": "python",
   "pygments_lexer": "ipython3",
   "version": "3.8.16"
  }
 },
 "nbformat": 4,
 "nbformat_minor": 5
}
