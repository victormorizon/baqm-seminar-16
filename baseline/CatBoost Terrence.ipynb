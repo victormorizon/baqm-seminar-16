{
 "cells": [
  {
   "cell_type": "code",
   "execution_count": 1,
   "id": "dff308b6",
   "metadata": {},
   "outputs": [],
   "source": [
    "# from catboost import CatBoostClassifier, Pool\n",
    "# import pandas as pd\n",
    "# from sklearn.model_selection import train_test_split\n",
    "# from sklearn.metrics import accuracy_score\n",
    "# from sklearn.metrics import confusion_matrix\n",
    "\n",
    "# pd.set_option('display.max_columns', None)\n",
    "# data_raw = pd.read_csv('prepped_data.csv', low_memory=False)\n",
    "# # data_raw = data_raw.dropna(axis=1)\n",
    "\n",
    "# columns_to_drop = ['Unnamed: 0', 'policy_nr_hashed', 'last_data_year', 'first_data_year', 'control_group', 'last_brand', 'last_type', 'last_fuel_type', 'last_product']\n",
    "# data = data_raw.drop(columns=columns_to_drop, axis=1)\n",
    "\n",
    "# y = data['churn']\n",
    "# X = data.drop('churn', axis=1)\n",
    "\n",
    "\n",
    "# X_train, X_test, y_train, y_test = train_test_split(X, y, test_size=0.2, random_state=42)\n",
    "\n",
    "# model = CatBoostClassifier(iterations=100, \n",
    "#                            learning_rate=0.1, \n",
    "#                            depth=10, \n",
    "#                            loss_function='MultiClass')\n",
    "\n",
    "\n",
    "# model.fit(X_train, y_train, verbose=False)\n",
    "\n",
    "# predictions = model.predict(X_test)\n",
    "# cm = confusion_matrix(y_test, predictions)\n",
    "\n",
    "# print(cm)"
   ]
  },
  {
   "cell_type": "code",
   "execution_count": 2,
   "id": "a92d3ba5",
   "metadata": {},
   "outputs": [],
   "source": [
    "# from catboost import CatBoostClassifier\n",
    "# import pandas as pd\n",
    "# from sklearn.model_selection import train_test_split\n",
    "# from sklearn.metrics import confusion_matrix\n",
    "\n",
    "# pd.set_option('display.max_columns', None)\n",
    "# data_raw = pd.read_csv('prepped_data.csv', low_memory=False)\n",
    "# # data_raw = data_raw.dropna(axis=1)\n",
    "\n",
    "# columns_to_drop = ['Unnamed: 0', 'policy_nr_hashed', 'last_data_year', 'first_data_year', 'control_group', 'last_brand', 'last_type', 'last_fuel_type', 'last_product']\n",
    "# data = data_raw.drop(columns=columns_to_drop, axis=1)\n",
    "\n",
    "# y = data['churn']\n",
    "# X = data.drop('churn', axis=1)\n",
    "\n",
    "# X_train, X_test, y_train, y_test = train_test_split(X, y, test_size=0.2, random_state=42)\n",
    "\n",
    "# model = CatBoostClassifier(iterations=100,\n",
    "#                            learning_rate=0.1,\n",
    "#                            depth=10,\n",
    "#                            loss_function='MultiClass',\n",
    "#                            auto_class_weights='Balanced',  # This will handle the class imbalance\n",
    "#                            random_state=42)  # For reproducibility\n",
    "\n",
    "# model.fit(X_train, y_train, verbose=False)\n",
    "\n",
    "# predictions = model.predict(X_test)\n",
    "# cm = confusion_matrix(y_test, predictions)\n",
    "\n",
    "# print(cm)\n"
   ]
  },
  {
   "cell_type": "code",
   "execution_count": 1,
   "id": "66c0e56e",
   "metadata": {},
   "outputs": [
    {
     "name": "stdout",
     "output_type": "stream",
     "text": [
      "[[3759 1502]\n",
      " [ 168  474]]\n"
     ]
    }
   ],
   "source": [
    "from catboost import CatBoostClassifier\n",
    "import pandas as pd\n",
    "from sklearn.model_selection import train_test_split\n",
    "from sklearn.metrics import confusion_matrix\n",
    "\n",
    "pd.set_option('display.max_columns', None)\n",
    "data_raw = pd.read_csv('prepped_data.csv', low_memory=False)\n",
    "data_raw = data_raw.dropna(axis=1)\n",
    "\n",
    "categorical_columns = ['last_brand', 'last_type', 'last_fuel_type']\n",
    "data_raw = pd.get_dummies(data_raw, columns=categorical_columns)\n",
    "columns_to_drop = ['Unnamed: 0', 'policy_nr_hashed', 'last_data_year', 'first_data_year', 'control_group', 'last_product']\n",
    "data = data_raw.drop(columns=columns_to_drop, axis=1)\n",
    "\n",
    "y = data['churn']\n",
    "X = data.drop('churn', axis=1)\n",
    "\n",
    "X_train, X_test, y_train, y_test = train_test_split(X, y, test_size=0.2, random_state=42)\n",
    "\n",
    "model = CatBoostClassifier(iterations=100,\n",
    "                           learning_rate=0.1,\n",
    "                           depth=10,\n",
    "                           loss_function='MultiClass',\n",
    "                           auto_class_weights='Balanced',  # This will handle the class imbalance\n",
    "                           random_state=42)  # For reproducibility\n",
    "\n",
    "model.fit(X_train, y_train, verbose=False)\n",
    "\n",
    "predictions = model.predict(X_test)\n",
    "cm = confusion_matrix(y_test, predictions)\n",
    "\n",
    "print(cm)"
   ]
  },
  {
   "cell_type": "code",
   "execution_count": null,
   "id": "6a7975e0",
   "metadata": {},
   "outputs": [],
   "source": []
  },
  {
   "cell_type": "code",
   "execution_count": null,
   "id": "3fb2813a",
   "metadata": {},
   "outputs": [],
   "source": []
  },
  {
   "cell_type": "code",
   "execution_count": null,
   "id": "8b639772",
   "metadata": {},
   "outputs": [],
   "source": []
  },
  {
   "cell_type": "code",
   "execution_count": null,
   "id": "2e1ef875",
   "metadata": {},
   "outputs": [],
   "source": []
  },
  {
   "cell_type": "code",
   "execution_count": null,
   "id": "3e77fe11",
   "metadata": {},
   "outputs": [],
   "source": []
  }
 ],
 "metadata": {
  "kernelspec": {
   "display_name": "Python 3 (ipykernel)",
   "language": "python",
   "name": "python3"
  },
  "language_info": {
   "codemirror_mode": {
    "name": "ipython",
    "version": 3
   },
   "file_extension": ".py",
   "mimetype": "text/x-python",
   "name": "python",
   "nbconvert_exporter": "python",
   "pygments_lexer": "ipython3",
   "version": "3.10.9"
  }
 },
 "nbformat": 4,
 "nbformat_minor": 5
}
