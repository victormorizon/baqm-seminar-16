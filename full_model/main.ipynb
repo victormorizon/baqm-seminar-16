{
 "cells": [
  {
   "cell_type": "markdown",
   "metadata": {},
   "source": [
    "# Load Packages"
   ]
  },
  {
   "cell_type": "code",
   "execution_count": 1,
   "metadata": {},
   "outputs": [
    {
     "name": "stderr",
     "output_type": "stream",
     "text": [
      "/Users/victorperso/Documents/EUR/Aegon Marketing Case/baqm-seminar-16/.conda/lib/python3.8/site-packages/scipy/__init__.py:146: UserWarning: A NumPy version >=1.16.5 and <1.23.0 is required for this version of SciPy (detected version 1.24.3\n",
      "  warnings.warn(f\"A NumPy version >={np_minversion} and <{np_maxversion}\"\n"
     ]
    }
   ],
   "source": [
    "import functions as f\n",
    "import pandas as pd\n",
    "from tqdm import tqdm\n",
    "from joblib import Parallel, delayed\n",
    "import numpy as np"
   ]
  },
  {
   "cell_type": "markdown",
   "metadata": {},
   "source": [
    "# Load Data"
   ]
  },
  {
   "cell_type": "code",
   "execution_count": 2,
   "metadata": {},
   "outputs": [],
   "source": [
    "df = pd.read_csv(\"../data/prepped_data.csv\", low_memory=False, index_col=0).drop_duplicates()"
   ]
  },
  {
   "cell_type": "markdown",
   "metadata": {},
   "source": [
    "# Run Double ML"
   ]
  },
  {
   "cell_type": "code",
   "execution_count": 3,
   "metadata": {},
   "outputs": [
    {
     "name": "stdout",
     "output_type": "stream",
     "text": [
      "Running Split 1...\n",
      "Done!!\n"
     ]
    },
    {
     "name": "stderr",
     "output_type": "stream",
     "text": [
      "/Users/victorperso/Documents/EUR/Aegon Marketing Case/baqm-seminar-16/.conda/lib/python3.8/site-packages/doubleml/_utils_checks.py:204: UserWarning: Propensity predictions from learner Pipeline(steps=[('standardscaler', StandardScaler()),\n",
      "                ('logisticregression', LogisticRegression(max_iter=1000))]) for ml_m are close to zero or one (eps=1e-12).\n",
      "  warnings.warn(f'Propensity predictions from learner {str(learner)} for'\n"
     ]
    }
   ],
   "source": [
    "first_stage_1, first_stage_2, double_mls, splits = f.global_run(df, splits=1, cols_to_drop_manual=['last_type'], iters=1, log=False, intermediary_scores=False)"
   ]
  },
  {
   "cell_type": "code",
   "execution_count": 5,
   "metadata": {},
   "outputs": [
    {
     "data": {
      "text/html": [
       "<div>\n",
       "<style scoped>\n",
       "    .dataframe tbody tr th:only-of-type {\n",
       "        vertical-align: middle;\n",
       "    }\n",
       "\n",
       "    .dataframe tbody tr th {\n",
       "        vertical-align: top;\n",
       "    }\n",
       "\n",
       "    .dataframe thead th {\n",
       "        text-align: right;\n",
       "    }\n",
       "</style>\n",
       "<table border=\"1\" class=\"dataframe\">\n",
       "  <thead>\n",
       "    <tr style=\"text-align: right;\">\n",
       "      <th></th>\n",
       "      <th>coef</th>\n",
       "      <th>std err</th>\n",
       "      <th>t</th>\n",
       "      <th>P&gt;|t|</th>\n",
       "      <th>2.5 %</th>\n",
       "      <th>97.5 %</th>\n",
       "    </tr>\n",
       "  </thead>\n",
       "  <tbody>\n",
       "    <tr>\n",
       "      <th>welcome_discount</th>\n",
       "      <td>0.089725</td>\n",
       "      <td>0.008096</td>\n",
       "      <td>11.083034</td>\n",
       "      <td>1.516452e-28</td>\n",
       "      <td>0.073858</td>\n",
       "      <td>0.105592</td>\n",
       "    </tr>\n",
       "  </tbody>\n",
       "</table>\n",
       "</div>"
      ],
      "text/plain": [
       "                      coef   std err          t         P>|t|     2.5 %  \\\n",
       "welcome_discount  0.089725  0.008096  11.083034  1.516452e-28  0.073858   \n",
       "\n",
       "                    97.5 %  \n",
       "welcome_discount  0.105592  "
      ]
     },
     "metadata": {},
     "output_type": "display_data"
    },
    {
     "name": "stdout",
     "output_type": "stream",
     "text": [
      "================== Sensitivity Analysis ==================\n",
      "\n",
      "------------------ Scenario          ------------------\n",
      "Significance Level: level=0.95\n",
      "Sensitivity parameters: cf_y=0.03; cf_d=0.03, rho=1.0\n",
      "\n",
      "------------------ Bounds with CI    ------------------\n",
      "                  CI lower  theta lower     theta  theta upper  CI upper\n",
      "welcome_discount  0.049189     0.063155  0.089725     0.116295  0.130669\n",
      "\n",
      "------------------ Robustness Values ------------------\n",
      "                  H_0    RV (%)   RVa (%)\n",
      "welcome_discount  0.0  9.770818  7.868049\n"
     ]
    }
   ],
   "source": [
    "for k, v in double_mls.items():\n",
    "    display(v.summary)\n",
    "    # v.sensitivity_analysis(cf_y=0.00898, cf_d=0.14166, rho=0.4833)\n",
    "    v.sensitivity_analysis()\n",
    "    print(v.sensitivity_summary)\n",
    "    # v.sensitivity_plot()"
   ]
  },
  {
   "cell_type": "code",
   "execution_count": 5,
   "metadata": {},
   "outputs": [],
   "source": [
    "# for k_, v_ in double_mls.items():\n",
    "\n",
    "#     print(k_)\n",
    "#     display(v_.summary)\n",
    "#     features = [col for col in splits[k_].columns if col not in ['welcome_discount', 'churn']]\n",
    "#     benchmark_sensitivities = {}\n",
    "\n",
    "#     def process_feature(feature):\n",
    "#         return feature, v_.sensitivity_benchmark(benchmarking_set=[feature])\n",
    "\n",
    "#     results = Parallel(n_jobs=-1)(delayed(process_feature)(feature) for feature in features)\n",
    "\n",
    "#     for feature, result in results:\n",
    "#         benchmark_sensitivities[feature] = result\n",
    "\n",
    "#     cf_y_lst = []\n",
    "#     cf_d_lst = []\n",
    "#     names = []\n",
    "#     rhos = []\n",
    "\n",
    "#     for k, v in benchmark_sensitivities.items():\n",
    "#         cf_y_lst.append(v.loc[\"welcome_discount\", \"cf_y\"])\n",
    "#         cf_d_lst.append(v.loc[\"welcome_discount\", \"cf_d\"])\n",
    "#         rhos.append(v.loc[\"welcome_discount\", \"rho\"])\n",
    "#         names.append(k)\n",
    "\n",
    "#     benchmark_dict = {\n",
    "#         \"cf_y\" : cf_y_lst,\n",
    "#         \"cf_d\" : cf_d_lst,\n",
    "#         \"name\" : names\n",
    "#     }\n",
    "\n",
    "#     v_.sensitivity_analysis(cf_y=0.04, cf_d=0.03)\n",
    "#     v_.sensitivity_plot(benchmarks=benchmark_dict)\n",
    "\n",
    "# print(f\"Max cf_y: {np.max(cf_y_lst)}\")\n",
    "# print(f\"Max cf_d: {np.max(cf_d_lst)}\")\n",
    "# print(f\"Max rho: {np.max([np.abs(rho) for rho in rhos if np.abs(rho) != 1.0])}\")"
   ]
  },
  {
   "cell_type": "code",
   "execution_count": null,
   "metadata": {},
   "outputs": [],
   "source": []
  }
 ],
 "metadata": {
  "kernelspec": {
   "display_name": "Python 3",
   "language": "python",
   "name": "python3"
  },
  "language_info": {
   "codemirror_mode": {
    "name": "ipython",
    "version": 3
   },
   "file_extension": ".py",
   "mimetype": "text/x-python",
   "name": "python",
   "nbconvert_exporter": "python",
   "pygments_lexer": "ipython3",
   "version": "3.8.16"
  }
 },
 "nbformat": 4,
 "nbformat_minor": 2
}
