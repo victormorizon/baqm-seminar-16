{
 "cells": [
  {
   "cell_type": "markdown",
   "metadata": {},
   "source": [
    "# Load Packages"
   ]
  },
  {
   "cell_type": "code",
   "execution_count": 1,
   "metadata": {},
   "outputs": [],
   "source": [
    "import functions as f\n",
    "import pandas as pd\n",
    "from tqdm import tqdm\n",
    "from joblib import Parallel, delayed\n",
    "import numpy as np"
   ]
  },
  {
   "cell_type": "markdown",
   "metadata": {},
   "source": [
    "# Load Data"
   ]
  },
  {
   "cell_type": "code",
   "execution_count": 2,
   "metadata": {},
   "outputs": [],
   "source": [
    "df = pd.read_csv(\"../data/prepped_data.csv\", low_memory=False, index_col=0).drop_duplicates()"
   ]
  },
  {
   "cell_type": "markdown",
   "metadata": {},
   "source": [
    "# Run Double ML"
   ]
  },
  {
   "cell_type": "code",
   "execution_count": 3,
   "metadata": {},
   "outputs": [
    {
     "name": "stdout",
     "output_type": "stream",
     "text": [
      "Running Split 1...\n",
      "100%|██████████| 1/1 [00:13<00:00, 13.90s/trial, best loss: 0.140897727707545]\n",
      "100%|██████████| 1/1 [00:15<00:00, 15.18s/trial, best loss: 0.09154750395629821]\n",
      "Done!!\n"
     ]
    }
   ],
   "source": [
    "first_stage_1, first_stage_2, double_mls, splits = f.global_run(df, splits=1, cols_to_drop_manual=['last_type'], iters=1, log=False, intermediary_scores=False)"
   ]
  },
  {
   "cell_type": "code",
   "execution_count": 6,
   "metadata": {},
   "outputs": [
    {
     "data": {
      "text/html": [
       "<div>\n",
       "<style scoped>\n",
       "    .dataframe tbody tr th:only-of-type {\n",
       "        vertical-align: middle;\n",
       "    }\n",
       "\n",
       "    .dataframe tbody tr th {\n",
       "        vertical-align: top;\n",
       "    }\n",
       "\n",
       "    .dataframe thead th {\n",
       "        text-align: right;\n",
       "    }\n",
       "</style>\n",
       "<table border=\"1\" class=\"dataframe\">\n",
       "  <thead>\n",
       "    <tr style=\"text-align: right;\">\n",
       "      <th></th>\n",
       "      <th>coef</th>\n",
       "      <th>std err</th>\n",
       "      <th>t</th>\n",
       "      <th>P&gt;|t|</th>\n",
       "      <th>2.5 %</th>\n",
       "      <th>97.5 %</th>\n",
       "    </tr>\n",
       "  </thead>\n",
       "  <tbody>\n",
       "    <tr>\n",
       "      <th>welcome_discount</th>\n",
       "      <td>0.090822</td>\n",
       "      <td>0.017049</td>\n",
       "      <td>5.327219</td>\n",
       "      <td>9.972814e-08</td>\n",
       "      <td>0.057407</td>\n",
       "      <td>0.124236</td>\n",
       "    </tr>\n",
       "  </tbody>\n",
       "</table>\n",
       "</div>"
      ],
      "text/plain": [
       "                      coef   std err         t         P>|t|     2.5 %  \\\n",
       "welcome_discount  0.090822  0.017049  5.327219  9.972814e-08  0.057407   \n",
       "\n",
       "                    97.5 %  \n",
       "welcome_discount  0.124236  "
      ]
     },
     "metadata": {},
     "output_type": "display_data"
    },
    {
     "name": "stdout",
     "output_type": "stream",
     "text": [
      "================== Sensitivity Analysis ==================\n",
      "\n",
      "------------------ Scenario          ------------------\n",
      "Significance Level: level=0.95\n",
      "Sensitivity parameters: cf_y=0.00898; cf_d=0.14166, rho=0.4833\n",
      "\n",
      "------------------ Bounds with CI    ------------------\n",
      "                  CI lower  theta lower     theta  theta upper  CI upper\n",
      "welcome_discount  0.026336     0.054576  0.090822     0.127067  0.155218\n",
      "\n",
      "------------------ Robustness Values ------------------\n",
      "                  H_0    RV (%)   RVa (%)\n",
      "welcome_discount  0.0  9.192222  6.397277\n"
     ]
    }
   ],
   "source": [
    "for k, v in double_mls.items():\n",
    "    display(v.summary)\n",
    "    v.sensitivity_analysis(cf_y=0.00898, cf_d=0.14166, rho=0.4833)\n",
    "    print(v.sensitivity_summary)\n",
    "    # v.sensitivity_plot()"
   ]
  },
  {
   "cell_type": "code",
   "execution_count": 5,
   "metadata": {},
   "outputs": [],
   "source": [
    "# for k_, v_ in double_mls.items():\n",
    "\n",
    "#     print(k_)\n",
    "#     display(v_.summary)\n",
    "#     features = [col for col in splits[k_].columns if col not in ['welcome_discount', 'churn']]\n",
    "#     benchmark_sensitivities = {}\n",
    "\n",
    "#     def process_feature(feature):\n",
    "#         return feature, v_.sensitivity_benchmark(benchmarking_set=[feature])\n",
    "\n",
    "#     results = Parallel(n_jobs=-1)(delayed(process_feature)(feature) for feature in features)\n",
    "\n",
    "#     for feature, result in results:\n",
    "#         benchmark_sensitivities[feature] = result\n",
    "\n",
    "#     cf_y_lst = []\n",
    "#     cf_d_lst = []\n",
    "#     names = []\n",
    "#     rhos = []\n",
    "\n",
    "#     for k, v in benchmark_sensitivities.items():\n",
    "#         cf_y_lst.append(v.loc[\"welcome_discount\", \"cf_y\"])\n",
    "#         cf_d_lst.append(v.loc[\"welcome_discount\", \"cf_d\"])\n",
    "#         rhos.append(v.loc[\"welcome_discount\", \"rho\"])\n",
    "#         names.append(k)\n",
    "\n",
    "#     benchmark_dict = {\n",
    "#         \"cf_y\" : cf_y_lst,\n",
    "#         \"cf_d\" : cf_d_lst,\n",
    "#         \"name\" : names\n",
    "#     }\n",
    "\n",
    "#     v_.sensitivity_analysis(cf_y=0.04, cf_d=0.03)\n",
    "#     v_.sensitivity_plot(benchmarks=benchmark_dict)\n",
    "\n",
    "# print(f\"Max cf_y: {np.max(cf_y_lst)}\")\n",
    "# print(f\"Max cf_d: {np.max(cf_d_lst)}\")\n",
    "# print(f\"Max rho: {np.max([np.abs(rho) for rho in rhos if np.abs(rho) != 1.0])}\")"
   ]
  },
  {
   "cell_type": "code",
   "execution_count": null,
   "metadata": {},
   "outputs": [],
   "source": []
  }
 ],
 "metadata": {
  "kernelspec": {
   "display_name": "Python 3",
   "language": "python",
   "name": "python3"
  },
  "language_info": {
   "codemirror_mode": {
    "name": "ipython",
    "version": 3
   },
   "file_extension": ".py",
   "mimetype": "text/x-python",
   "name": "python",
   "nbconvert_exporter": "python",
   "pygments_lexer": "ipython3",
   "version": "3.8.16"
  }
 },
 "nbformat": 4,
 "nbformat_minor": 2
}
