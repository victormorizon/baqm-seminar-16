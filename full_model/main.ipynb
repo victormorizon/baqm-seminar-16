{
 "cells": [
  {
   "cell_type": "markdown",
   "metadata": {},
   "source": [
    "# Load Packages"
   ]
  },
  {
   "cell_type": "code",
   "execution_count": 1,
   "metadata": {},
   "outputs": [],
   "source": [
    "import functions as f\n",
    "import pandas as pd"
   ]
  },
  {
   "cell_type": "markdown",
   "metadata": {},
   "source": [
    "# Load Data"
   ]
  },
  {
   "cell_type": "code",
   "execution_count": 2,
   "metadata": {},
   "outputs": [],
   "source": [
    "df = pd.read_csv(\"../data/prepped_data.csv\", low_memory=False, index_col=0).drop_duplicates()"
   ]
  },
  {
   "cell_type": "markdown",
   "metadata": {},
   "source": [
    "# Run Double ML"
   ]
  },
  {
   "cell_type": "code",
   "execution_count": 6,
   "metadata": {},
   "outputs": [
    {
     "name": "stdout",
     "output_type": "stream",
     "text": [
      "Running Split 1...\n",
      "100%|██████████| 50/50 [07:06<00:00,  8.54s/trial, best loss: 0.07714752278934404]\n",
      "100%|██████████| 50/50 [07:50<00:00,  9.42s/trial, best loss: 0.07594240424345441]\n",
      "Done!!\n",
      "Running Split 2...\n",
      "100%|██████████| 50/50 [06:24<00:00,  7.69s/trial, best loss: 0.09351191123460742]\n",
      "100%|██████████| 50/50 [06:48<00:00,  8.18s/trial, best loss: 0.03716616162308659]\n",
      "Done!!\n",
      "Running Split 3...\n",
      "100%|██████████| 50/50 [07:51<00:00,  9.43s/trial, best loss: 0.09919670653263897]\n",
      "100%|██████████| 50/50 [07:31<00:00,  9.04s/trial, best loss: 0.02652627326298899] \n",
      "Done!!\n"
     ]
    }
   ],
   "source": [
    "first_stage_1, first_stage_2, double_mls = f.global_run(df, splits=3, cols_to_drop_manual=[], iters=50, log=False, intermediary_scores=False)"
   ]
  },
  {
   "cell_type": "code",
   "execution_count": 9,
   "metadata": {},
   "outputs": [
    {
     "name": "stdout",
     "output_type": "stream",
     "text": [
      "(0.00852, 0.162]\n"
     ]
    },
    {
     "data": {
      "text/html": [
       "<div>\n",
       "<style scoped>\n",
       "    .dataframe tbody tr th:only-of-type {\n",
       "        vertical-align: middle;\n",
       "    }\n",
       "\n",
       "    .dataframe tbody tr th {\n",
       "        vertical-align: top;\n",
       "    }\n",
       "\n",
       "    .dataframe thead th {\n",
       "        text-align: right;\n",
       "    }\n",
       "</style>\n",
       "<table border=\"1\" class=\"dataframe\">\n",
       "  <thead>\n",
       "    <tr style=\"text-align: right;\">\n",
       "      <th></th>\n",
       "      <th>coef</th>\n",
       "      <th>std err</th>\n",
       "      <th>t</th>\n",
       "      <th>P&gt;|t|</th>\n",
       "      <th>2.5 %</th>\n",
       "      <th>97.5 %</th>\n",
       "    </tr>\n",
       "  </thead>\n",
       "  <tbody>\n",
       "    <tr>\n",
       "      <th>welcome_discount</th>\n",
       "      <td>0.081339</td>\n",
       "      <td>0.012822</td>\n",
       "      <td>6.343846</td>\n",
       "      <td>2.240994e-10</td>\n",
       "      <td>0.056209</td>\n",
       "      <td>0.106469</td>\n",
       "    </tr>\n",
       "  </tbody>\n",
       "</table>\n",
       "</div>"
      ],
      "text/plain": [
       "                      coef   std err         t         P>|t|     2.5 %  \\\n",
       "welcome_discount  0.081339  0.012822  6.343846  2.240994e-10  0.056209   \n",
       "\n",
       "                    97.5 %  \n",
       "welcome_discount  0.106469  "
      ]
     },
     "metadata": {},
     "output_type": "display_data"
    },
    {
     "name": "stdout",
     "output_type": "stream",
     "text": [
      "================== Sensitivity Analysis ==================\n",
      "\n",
      "------------------ Scenario          ------------------\n",
      "Significance Level: level=0.95\n",
      "Sensitivity parameters: cf_y=0.03; cf_d=0.03, rho=1.0\n",
      "\n",
      "------------------ Bounds with CI    ------------------\n",
      "                  CI lower  theta lower     theta  theta upper  CI upper\n",
      "welcome_discount  0.000871     0.021817  0.081339     0.140861  0.162331\n",
      "\n",
      "------------------ Robustness Values ------------------\n",
      "                  H_0    RV (%)   RVa (%)\n",
      "welcome_discount  0.0  4.076821  3.043358\n",
      "(0.162, 0.243]\n"
     ]
    },
    {
     "data": {
      "text/html": [
       "<div>\n",
       "<style scoped>\n",
       "    .dataframe tbody tr th:only-of-type {\n",
       "        vertical-align: middle;\n",
       "    }\n",
       "\n",
       "    .dataframe tbody tr th {\n",
       "        vertical-align: top;\n",
       "    }\n",
       "\n",
       "    .dataframe thead th {\n",
       "        text-align: right;\n",
       "    }\n",
       "</style>\n",
       "<table border=\"1\" class=\"dataframe\">\n",
       "  <thead>\n",
       "    <tr style=\"text-align: right;\">\n",
       "      <th></th>\n",
       "      <th>coef</th>\n",
       "      <th>std err</th>\n",
       "      <th>t</th>\n",
       "      <th>P&gt;|t|</th>\n",
       "      <th>2.5 %</th>\n",
       "      <th>97.5 %</th>\n",
       "    </tr>\n",
       "  </thead>\n",
       "  <tbody>\n",
       "    <tr>\n",
       "      <th>welcome_discount</th>\n",
       "      <td>0.117591</td>\n",
       "      <td>0.008372</td>\n",
       "      <td>14.045109</td>\n",
       "      <td>8.254120e-45</td>\n",
       "      <td>0.101182</td>\n",
       "      <td>0.134001</td>\n",
       "    </tr>\n",
       "  </tbody>\n",
       "</table>\n",
       "</div>"
      ],
      "text/plain": [
       "                      coef   std err          t         P>|t|     2.5 %  \\\n",
       "welcome_discount  0.117591  0.008372  14.045109  8.254120e-45  0.101182   \n",
       "\n",
       "                    97.5 %  \n",
       "welcome_discount  0.134001  "
      ]
     },
     "metadata": {},
     "output_type": "display_data"
    },
    {
     "name": "stdout",
     "output_type": "stream",
     "text": [
      "================== Sensitivity Analysis ==================\n",
      "\n",
      "------------------ Scenario          ------------------\n",
      "Significance Level: level=0.95\n",
      "Sensitivity parameters: cf_y=0.03; cf_d=0.03, rho=1.0\n",
      "\n",
      "------------------ Bounds with CI    ------------------\n",
      "                  CI lower  theta lower     theta  theta upper  CI upper\n",
      "welcome_discount  0.010557     0.024573  0.117591     0.210609  0.224357\n",
      "\n",
      "------------------ Robustness Values ------------------\n",
      "                  H_0    RV (%)   RVa (%)\n",
      "welcome_discount  0.0  3.777355  3.333491\n",
      "(0.243, 0.3]\n"
     ]
    },
    {
     "data": {
      "text/html": [
       "<div>\n",
       "<style scoped>\n",
       "    .dataframe tbody tr th:only-of-type {\n",
       "        vertical-align: middle;\n",
       "    }\n",
       "\n",
       "    .dataframe tbody tr th {\n",
       "        vertical-align: top;\n",
       "    }\n",
       "\n",
       "    .dataframe thead th {\n",
       "        text-align: right;\n",
       "    }\n",
       "</style>\n",
       "<table border=\"1\" class=\"dataframe\">\n",
       "  <thead>\n",
       "    <tr style=\"text-align: right;\">\n",
       "      <th></th>\n",
       "      <th>coef</th>\n",
       "      <th>std err</th>\n",
       "      <th>t</th>\n",
       "      <th>P&gt;|t|</th>\n",
       "      <th>2.5 %</th>\n",
       "      <th>97.5 %</th>\n",
       "    </tr>\n",
       "  </thead>\n",
       "  <tbody>\n",
       "    <tr>\n",
       "      <th>welcome_discount</th>\n",
       "      <td>0.20539</td>\n",
       "      <td>0.010275</td>\n",
       "      <td>19.989464</td>\n",
       "      <td>6.802218e-89</td>\n",
       "      <td>0.185251</td>\n",
       "      <td>0.225528</td>\n",
       "    </tr>\n",
       "  </tbody>\n",
       "</table>\n",
       "</div>"
      ],
      "text/plain": [
       "                     coef   std err          t         P>|t|     2.5 %  \\\n",
       "welcome_discount  0.20539  0.010275  19.989464  6.802218e-89  0.185251   \n",
       "\n",
       "                    97.5 %  \n",
       "welcome_discount  0.225528  "
      ]
     },
     "metadata": {},
     "output_type": "display_data"
    },
    {
     "name": "stdout",
     "output_type": "stream",
     "text": [
      "================== Sensitivity Analysis ==================\n",
      "\n",
      "------------------ Scenario          ------------------\n",
      "Significance Level: level=0.95\n",
      "Sensitivity parameters: cf_y=0.03; cf_d=0.03, rho=1.0\n",
      "\n",
      "------------------ Bounds with CI    ------------------\n",
      "                  CI lower  theta lower    theta  theta upper  CI upper\n",
      "welcome_discount  0.079594     0.096812  0.20539     0.313968   0.33075\n",
      "\n",
      "------------------ Robustness Values ------------------\n",
      "                  H_0    RV (%)   RVa (%)\n",
      "welcome_discount  0.0  5.598397  5.132146\n"
     ]
    }
   ],
   "source": [
    "for k, v in double_mls.items():\n",
    "    print(k)\n",
    "    display(v.summary)\n",
    "    print(v.sensitivity_analysis().sensitivity_summary)"
   ]
  },
  {
   "cell_type": "code",
   "execution_count": null,
   "metadata": {},
   "outputs": [],
   "source": []
  }
 ],
 "metadata": {
  "kernelspec": {
   "display_name": "Python 3",
   "language": "python",
   "name": "python3"
  },
  "language_info": {
   "codemirror_mode": {
    "name": "ipython",
    "version": 3
   },
   "file_extension": ".py",
   "mimetype": "text/x-python",
   "name": "python",
   "nbconvert_exporter": "python",
   "pygments_lexer": "ipython3",
   "version": "3.8.16"
  }
 },
 "nbformat": 4,
 "nbformat_minor": 2
}
