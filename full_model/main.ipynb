{
 "cells": [
  {
   "cell_type": "markdown",
   "metadata": {},
   "source": [
    "# Load Packages"
   ]
  },
  {
   "cell_type": "code",
   "execution_count": null,
   "metadata": {},
   "outputs": [],
   "source": [
    "import functions as f\n",
    "import pandas as pd\n",
    "from tqdm import tqdm\n",
    "from joblib import Parallel, delayed\n",
    "import numpy as np\n",
    "import matplotlib.pyplot as plt\n",
    "import plotly.express as px\n",
    "\n",
    "np.random.seed(0)\n",
    "plt.style.use('ggplot')"
   ]
  },
  {
   "cell_type": "markdown",
   "metadata": {},
   "source": [
    "# Load Data"
   ]
  },
  {
   "cell_type": "code",
   "execution_count": null,
   "metadata": {},
   "outputs": [],
   "source": [
    "df = pd.read_csv(\"../data/prepped_data.csv\", low_memory=False, index_col=0).drop_duplicates()\n",
    "segments = pd.read_csv(\"../customer_segmentation/segments.csv\", index_col=0)\n",
    "\n",
    "df = df[df[\"first_data_year\"] >= 2021]\n",
    "df.index = df[\"policy_nr_hashed\"]\n",
    "df = df.drop(\"policy_nr_hashed\", axis=1)\n",
    "\n",
    "segments.index = segments[\"policy_nr_hashed\"]\n",
    "segments = segments.drop(\"policy_nr_hashed\", axis=1)\n",
    "segments = pd.get_dummies(segments, columns=[\"cluster\"])\n",
    "\n",
    "group_names = {\n",
    "    'cluster_0': 'Value Seekers', \n",
    "    'cluster_1': 'High-Income Customers',\n",
    "    'cluster_2': 'Basic Coverage',\n",
    "    'cluster_3': 'Rural Customers',\n",
    "}\n",
    "\n",
    "segments = segments.rename(columns=group_names)"
   ]
  },
  {
   "cell_type": "markdown",
   "metadata": {},
   "source": [
    "# Run Double ML"
   ]
  },
  {
   "cell_type": "code",
   "execution_count": null,
   "metadata": {},
   "outputs": [],
   "source": [
    "first_stage_1, first_stage_2, double_mls, splits = f.global_run(df, splits=3, cols_to_drop_manual=['last_type'], iters=50, log=False, intermediary_scores=False)"
   ]
  },
  {
   "cell_type": "code",
   "execution_count": null,
   "metadata": {},
   "outputs": [],
   "source": [
    "i = 0\n",
    "\n",
    "for k, v in double_mls.items():\n",
    "    # if i == 2:\n",
    "        print(k)\n",
    "        # display(v.summary)\n",
    "        included_policy_nr = splits[k].index.to_list()\n",
    "        segments_i = segments.loc[included_policy_nr]\n",
    "        gate = v.gate(groups=segments_i)\n",
    "        display(gate.summary)\n",
    "        # v.sensitivity_analysis(cf_y=0.0, cf_d=0.0, rho=0.4833)\n",
    "        # print(v.sensitivity_summary)\n",
    "        # v.sensitivity_plot()\n",
    "\n",
    "    # i += 1"
   ]
  },
  {
   "cell_type": "code",
   "execution_count": null,
   "metadata": {},
   "outputs": [],
   "source": [
    "v.sensitivity_analysis(cf_y=0.1158, cf_d=0.1158, rho=0.4833)\n",
    "fig = v.sensitivity_plot()\n",
    "fig.update_layout(\n",
    "    autosize=False,\n",
    "    width=600,\n",
    "    height=500,\n",
    "    margin=dict(l=20, r=20, t=20, b=20),\n",
    "    coloraxis_showscale=False\n",
    ")"
   ]
  },
  {
   "cell_type": "code",
   "execution_count": null,
   "metadata": {},
   "outputs": [],
   "source": [
    "group_1 = [9.209, 10.312, 19.822]\n",
    "group_2 = [6.740, 16.398, 19.323]\n",
    "group_3 = [7.418, 6.760, 15.915]\n",
    "group_4 = [6.057, 11.811, 21.584]\n",
    "\n",
    "\n",
    "x = [\"0%-16.2%\", \"16.2%-24.3%\", \"24.3%-30%\"]\n",
    "\n",
    "fig, ax = plt.subplots()\n",
    "\n",
    "ax.plot(x, group_1, label=\"Value Seekers (1)\", marker=\"x\", linestyle='--', linewidth=1, color=\"firebrick\")\n",
    "\n",
    "ax.plot(x, group_2, label=\"High-Income Customers (2)\", marker=\"x\", linestyle='--', linewidth=1, color=\"goldenrod\")\n",
    "\n",
    "ax.plot(x, group_3, label=\"Basic Coverage (3)\", marker=\"x\", linestyle='--', linewidth=1, color=\"darkcyan\")\n",
    "\n",
    "ax.plot(x, group_4, label=\"Rural Customers (4)\", marker=\"x\", linestyle='--', linewidth=1, color=\"green\")\n",
    "\n",
    "plt.xticks(x)\n",
    "ax.legend()\n",
    "plt.xlabel(\"Discount Range\")\n",
    "plt.ylabel(\"Average Treatment Effect [%]\")\n",
    "# plt.savefig('../plots/gate.png', dpi=200)\n",
    "plt.show()"
   ]
  },
  {
   "cell_type": "code",
   "execution_count": null,
   "metadata": {},
   "outputs": [],
   "source": [
    "group_1 = [21.9, 23, 32.5]\n",
    "group_2 = [16.3, 26, 28.9]\n",
    "group_3 = [27.7, 27.1, 36.2]\n",
    "group_4 = [16.7, 22.4, 32.2]\n",
    "\n",
    "\n",
    "x = [\"0%-16.2%\", \"16.2%-24.3%\", \"24.3%-30%\"]\n",
    "\n",
    "fig, ax = plt.subplots()\n",
    "\n",
    "ax.plot(x, group_1, label=\"Value Seekers (1)\", marker=\"x\", linestyle='--', linewidth=1, color=\"firebrick\")\n",
    "\n",
    "ax.plot(x, group_2, label=\"High-Income Customers (2)\", marker=\"x\", linestyle='--', linewidth=1, color=\"goldenrod\")\n",
    "\n",
    "ax.plot(x, group_3, label=\"Basic Coverage (3)\", marker=\"x\", linestyle='--', linewidth=1, color=\"darkcyan\")\n",
    "\n",
    "ax.plot(x, group_4, label=\"Rural Customers (4)\", marker=\"x\", linestyle='--', linewidth=1, color=\"green\")\n",
    "\n",
    "plt.xticks(x)\n",
    "ax.legend()\n",
    "plt.xlabel(\"Discount Range\")\n",
    "plt.ylabel(\"Average Treatment Effect [%]\")\n",
    "plt.savefig('../plots/final_model.png', dpi=200)\n",
    "plt.show()"
   ]
  },
  {
   "cell_type": "markdown",
   "metadata": {},
   "source": [
    "# Code to check max C_y and C_d in our data"
   ]
  },
  {
   "cell_type": "code",
   "execution_count": null,
   "metadata": {},
   "outputs": [],
   "source": [
    "# i = 0\n",
    "\n",
    "# for k_, v_ in double_mls.items():\n",
    "\n",
    "#     if i == 0:\n",
    "#         print(k_)\n",
    "#         display(v_.summary)\n",
    "#         features = [col for col in splits[k_].columns if col not in ['welcome_discount', 'churn']]\n",
    "#         benchmark_sensitivities = {}\n",
    "\n",
    "#         def process_feature(feature):\n",
    "#             return feature, v_.sensitivity_benchmark(benchmarking_set=[feature])\n",
    "\n",
    "#         results = Parallel(n_jobs=-1)(delayed(process_feature)(feature) for feature in features)\n",
    "\n",
    "#         for feature, result in results:\n",
    "#             benchmark_sensitivities[feature] = result\n",
    "\n",
    "#         cf_y_lst = []\n",
    "#         cf_d_lst = []\n",
    "#         names = []\n",
    "#         rhos = []\n",
    "\n",
    "#         for k, v in benchmark_sensitivities.items():\n",
    "#             cf_y_lst.append(v.loc[\"welcome_discount\", \"cf_y\"])\n",
    "#             cf_d_lst.append(v.loc[\"welcome_discount\", \"cf_d\"])\n",
    "#             rhos.append(v.loc[\"welcome_discount\", \"rho\"])\n",
    "#             names.append(k)\n",
    "\n",
    "#         benchmark_dict = {\n",
    "#             \"cf_y\" : cf_y_lst,\n",
    "#             \"cf_d\" : cf_d_lst,\n",
    "#             \"name\" : names\n",
    "#         }\n",
    "\n",
    "#         v_.sensitivity_analysis(cf_y=0.04, cf_d=0.03)\n",
    "#         v_.sensitivity_plot(benchmarks=benchmark_dict)\n",
    "\n",
    "#     i += 1\n",
    "\n",
    "# print(f\"Max cf_y: {np.max(cf_y_lst)}\")\n",
    "# print(f\"Max cf_d: {np.max(cf_d_lst)}\")\n",
    "# print(f\"Max rho: {np.max([np.abs(rho) for rho in rhos if np.abs(rho) != 1.0])}\")"
   ]
  },
  {
   "cell_type": "code",
   "execution_count": null,
   "metadata": {},
   "outputs": [],
   "source": []
  }
 ],
 "metadata": {
  "kernelspec": {
   "display_name": "Python 3",
   "language": "python",
   "name": "python3"
  },
  "language_info": {
   "codemirror_mode": {
    "name": "ipython",
    "version": 3
   },
   "file_extension": ".py",
   "mimetype": "text/x-python",
   "name": "python",
   "nbconvert_exporter": "python",
   "pygments_lexer": "ipython3",
   "version": "3.8.16"
  }
 },
 "nbformat": 4,
 "nbformat_minor": 2
}
