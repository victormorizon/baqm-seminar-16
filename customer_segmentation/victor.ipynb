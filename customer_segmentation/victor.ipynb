{
 "cells": [
  {
   "cell_type": "markdown",
   "metadata": {},
   "source": [
    "# Import Packages"
   ]
  },
  {
   "cell_type": "code",
   "execution_count": 40,
   "metadata": {},
   "outputs": [],
   "source": [
    "import pandas as pd\n",
    "from sklearn.preprocessing import StandardScaler\n",
    "import gower\n",
    "from sklearn.cluster import KMeans, SpectralClustering, DBSCAN, AgglomerativeClustering, HDBSCAN, Birch\n",
    "from sklearn.metrics import silhouette_score, davies_bouldin_score, calinski_harabasz_score\n",
    "import prince\n",
    "import numpy as np\n",
    "from itertools import combinations, chain"
   ]
  },
  {
   "cell_type": "markdown",
   "metadata": {},
   "source": [
    "# Load Data"
   ]
  },
  {
   "cell_type": "code",
   "execution_count": null,
   "metadata": {},
   "outputs": [],
   "source": [
    "df = pd.read_csv(\"../data/prepped_data.csv\", low_memory=False, index_col=0).drop_duplicates()\n",
    "\n",
    "df = df[df[\"first_data_year\"] >= 2021].head(1000)"
   ]
  },
  {
   "cell_type": "markdown",
   "metadata": {},
   "source": [
    "# Apply PCA"
   ]
  },
  {
   "cell_type": "code",
   "execution_count": 101,
   "metadata": {},
   "outputs": [],
   "source": [
    "cols_to_drop_init = [\"welcome_discount\", \"policy_nr_hashed\", \"control_group\", \"churn\", \"last_data_year\", \"first_datapoint_year\", \"last_datapoint_year\", \"first_data_year\", 'last_type', 'lpa', 'count', 'cluster']\n",
    "cols_to_keep = [col for col in df.columns if col not in cols_to_drop_init]\n",
    "\n",
    "df_filt = df[cols_to_keep]\n",
    "dist_matrix = gower.gower_matrix(df_filt)\n",
    "\n",
    "cluster = KMeans(n_clusters=4, random_state=0, n_init='auto').fit(dist_matrix)\n",
    "# cluster = KMeans(n_clusters=4, random_state=0, n_init='auto').fit(df_scaled)\n",
    "\n",
    "df[\"cluster\"] = cluster.labels_\n",
    "\n",
    "# display(\n",
    "#     df\n",
    "#     .groupby(\"cluster\")\n",
    "#     .agg(\n",
    "#         count=pd.NamedAgg(column=\"churn\", aggfunc=\"count\"),\n",
    "#         income=pd.NamedAgg(column=\"median_income_household\", aggfunc=\"mean\"),\n",
    "#         perc_low_income=pd.NamedAgg(column=\"perc_low_income\", aggfunc=\"mean\"),\n",
    "#         perc_high_income=pd.NamedAgg(column=\"perc_high_income\", aggfunc=\"mean\"),\n",
    "#         density=pd.NamedAgg(column=\"density\", aggfunc=\"mean\"),\n",
    "#         household_size=pd.NamedAgg(column=\"household_size\", aggfunc=\"mean\"),\n",
    "#         welcome_discount=pd.NamedAgg(column=\"welcome_discount\", aggfunc=\"mean\"),\n",
    "#         churn=pd.NamedAgg(column=\"churn\", aggfunc=\"mean\"),\n",
    "#         last_customer_age=pd.NamedAgg(column=\"last_customer_age\", aggfunc=\"mean\"),\n",
    "#         last_car_value=pd.NamedAgg(column=\"last_car_value\", aggfunc=\"mean\"),\n",
    "#         perc_others_ppl=pd.NamedAgg(column=\"perc_others_ppl\", aggfunc=\"mean\"),\n",
    "#         perc_nld_ppl=pd.NamedAgg(column=\"perc_nld_ppl\", aggfunc=\"men\"),\n",
    "#     )\n",
    "# )\n",
    "\n",
    "print(silhouette_score(dist_matrix, df[\"cluster\"]))\n",
    "print(davies_bouldin_score(dist_matrix, df[\"cluster\"]))\n",
    "print(calinski_harabasz_score(dist_matrix, df[\"cluster\"]))"
   ]
  },
  {
   "cell_type": "code",
   "execution_count": 100,
   "metadata": {},
   "outputs": [
    {
     "name": "stdout",
     "output_type": "stream",
     "text": [
      "Index(['count', 'first_premium', 'last_premium', 'first_split', 'last_split',\n",
      "       'last_customer_age', 'last_accident_free_years', 'last_car_value',\n",
      "       'last_age_car', 'last_brand', 'last_weight', 'last_fuel_type',\n",
      "       'last_postcode', 'last_product', 'last_allrisk basis',\n",
      "       'last_allrisk compleet', 'last_allrisk royaal', 'last_wa-extra',\n",
      "       'last_sales_channel', 'nr_cars', 'fake_alarm', 'policyholder_change',\n",
      "       'max_nr_coverages', 'last_nr_coverages', 'accident_years',\n",
      "       'n_last_vs_peak', 'last_vs_first_split', 'cum_change_premium_abs',\n",
      "       'cum_change_premium_perc', 'pc4', 'nr_years', 'nr_ppl', 'males',\n",
      "       'females', 'tot_15y', '15_tot_25y', '25_tot_45y', '4_tot_65y',\n",
      "       '65y_plus', 'perc_nld_ppl', 'perc_western_ppl', 'perc_others_ppl',\n",
      "       'nr_households', 'household_size', 'nr_homes', 'house_worth',\n",
      "       'median_income_household', 'perc_low_income', 'perc_high_income',\n",
      "       'ppl_social_help', 'density', 'livability', 'cluster'],\n",
      "      dtype='object')\n"
     ]
    }
   ],
   "source": [
    "print(df_filt.columns)"
   ]
  },
  {
   "cell_type": "code",
   "execution_count": null,
   "metadata": {},
   "outputs": [],
   "source": []
  }
 ],
 "metadata": {
  "kernelspec": {
   "display_name": "Python 3",
   "language": "python",
   "name": "python3"
  },
  "language_info": {
   "codemirror_mode": {
    "name": "ipython",
    "version": 3
   },
   "file_extension": ".py",
   "mimetype": "text/x-python",
   "name": "python",
   "nbconvert_exporter": "python",
   "pygments_lexer": "ipython3",
   "version": "3.8.16"
  }
 },
 "nbformat": 4,
 "nbformat_minor": 2
}
