{
 "cells": [
  {
   "cell_type": "markdown",
   "metadata": {},
   "source": [
    "# Import Packages"
   ]
  },
  {
   "cell_type": "code",
   "execution_count": 1,
   "metadata": {},
   "outputs": [
    {
     "name": "stderr",
     "output_type": "stream",
     "text": [
      "/Users/victorperso/Documents/EUR/Aegon Marketing Case/baqm-seminar-16/.conda/lib/python3.8/site-packages/scipy/__init__.py:146: UserWarning: A NumPy version >=1.16.5 and <1.23.0 is required for this version of SciPy (detected version 1.24.3\n",
      "  warnings.warn(f\"A NumPy version >={np_minversion} and <{np_maxversion}\"\n"
     ]
    }
   ],
   "source": [
    "import pandas as pd\n",
    "from sklearn.preprocessing import StandardScaler\n",
    "import gower\n",
    "from sklearn.cluster import KMeans, SpectralClustering, DBSCAN, AgglomerativeClustering, HDBSCAN\n",
    "from sklearn.metrics import silhouette_score, davies_bouldin_score, calinski_harabasz_score"
   ]
  },
  {
   "cell_type": "markdown",
   "metadata": {},
   "source": [
    "# Load Data"
   ]
  },
  {
   "cell_type": "code",
   "execution_count": 2,
   "metadata": {},
   "outputs": [],
   "source": [
    "df = pd.read_csv(\"../data/prepped_data.csv\", low_memory=False, index_col=0).drop_duplicates()\n",
    "\n",
    "df = df[df[\"first_data_year\"] >= 2021].head(5000)"
   ]
  },
  {
   "cell_type": "markdown",
   "metadata": {},
   "source": [
    "# Apply Clustering"
   ]
  },
  {
   "cell_type": "code",
   "execution_count": 13,
   "metadata": {},
   "outputs": [
    {
     "name": "stderr",
     "output_type": "stream",
     "text": [
      "/Users/victorperso/Documents/EUR/Aegon Marketing Case/baqm-seminar-16/.conda/lib/python3.8/site-packages/sklearn/cluster/_spectral.py:688: UserWarning: The spectral clustering API has changed. ``fit``now constructs an affinity matrix from data. To use a custom affinity matrix, set ``affinity=precomputed``.\n",
      "  warnings.warn(\n"
     ]
    },
    {
     "data": {
      "text/html": [
       "<div>\n",
       "<style scoped>\n",
       "    .dataframe tbody tr th:only-of-type {\n",
       "        vertical-align: middle;\n",
       "    }\n",
       "\n",
       "    .dataframe tbody tr th {\n",
       "        vertical-align: top;\n",
       "    }\n",
       "\n",
       "    .dataframe thead th {\n",
       "        text-align: right;\n",
       "    }\n",
       "</style>\n",
       "<table border=\"1\" class=\"dataframe\">\n",
       "  <thead>\n",
       "    <tr style=\"text-align: right;\">\n",
       "      <th></th>\n",
       "      <th>count</th>\n",
       "      <th>income</th>\n",
       "      <th>perc_low_income</th>\n",
       "      <th>perc_high_income</th>\n",
       "      <th>density</th>\n",
       "      <th>household_size</th>\n",
       "      <th>welcome_discount</th>\n",
       "      <th>churn</th>\n",
       "      <th>last_customer_age</th>\n",
       "      <th>last_car_value</th>\n",
       "      <th>perc_others_ppl</th>\n",
       "      <th>perc_nld_ppl</th>\n",
       "    </tr>\n",
       "    <tr>\n",
       "      <th>cluster</th>\n",
       "      <th></th>\n",
       "      <th></th>\n",
       "      <th></th>\n",
       "      <th></th>\n",
       "      <th></th>\n",
       "      <th></th>\n",
       "      <th></th>\n",
       "      <th></th>\n",
       "      <th></th>\n",
       "      <th></th>\n",
       "      <th></th>\n",
       "      <th></th>\n",
       "    </tr>\n",
       "  </thead>\n",
       "  <tbody>\n",
       "    <tr>\n",
       "      <th>0</th>\n",
       "      <td>210</td>\n",
       "      <td>27789.047619</td>\n",
       "      <td>51.198571</td>\n",
       "      <td>14.497143</td>\n",
       "      <td>4082.109524</td>\n",
       "      <td>2.105714</td>\n",
       "      <td>0.160102</td>\n",
       "      <td>0.295238</td>\n",
       "      <td>41.200000</td>\n",
       "      <td>395091.093333</td>\n",
       "      <td>54.047619</td>\n",
       "      <td>32.523810</td>\n",
       "    </tr>\n",
       "    <tr>\n",
       "      <th>1</th>\n",
       "      <td>4440</td>\n",
       "      <td>32465.945946</td>\n",
       "      <td>37.435833</td>\n",
       "      <td>20.734775</td>\n",
       "      <td>1433.574099</td>\n",
       "      <td>2.234752</td>\n",
       "      <td>0.047392</td>\n",
       "      <td>0.101577</td>\n",
       "      <td>50.336036</td>\n",
       "      <td>375400.020901</td>\n",
       "      <td>9.921171</td>\n",
       "      <td>80.101351</td>\n",
       "    </tr>\n",
       "    <tr>\n",
       "      <th>2</th>\n",
       "      <td>350</td>\n",
       "      <td>28543.714286</td>\n",
       "      <td>50.174571</td>\n",
       "      <td>15.373714</td>\n",
       "      <td>3848.491429</td>\n",
       "      <td>2.073143</td>\n",
       "      <td>0.144789</td>\n",
       "      <td>0.282857</td>\n",
       "      <td>44.114286</td>\n",
       "      <td>404181.472000</td>\n",
       "      <td>44.428571</td>\n",
       "      <td>40.800000</td>\n",
       "    </tr>\n",
       "  </tbody>\n",
       "</table>\n",
       "</div>"
      ],
      "text/plain": [
       "         count        income  perc_low_income  perc_high_income      density  \\\n",
       "cluster                                                                        \n",
       "0          210  27789.047619        51.198571         14.497143  4082.109524   \n",
       "1         4440  32465.945946        37.435833         20.734775  1433.574099   \n",
       "2          350  28543.714286        50.174571         15.373714  3848.491429   \n",
       "\n",
       "         household_size  welcome_discount     churn  last_customer_age  \\\n",
       "cluster                                                                  \n",
       "0              2.105714          0.160102  0.295238          41.200000   \n",
       "1              2.234752          0.047392  0.101577          50.336036   \n",
       "2              2.073143          0.144789  0.282857          44.114286   \n",
       "\n",
       "         last_car_value  perc_others_ppl  perc_nld_ppl  \n",
       "cluster                                                 \n",
       "0         395091.093333        54.047619     32.523810  \n",
       "1         375400.020901         9.921171     80.101351  \n",
       "2         404181.472000        44.428571     40.800000  "
      ]
     },
     "metadata": {},
     "output_type": "display_data"
    },
    {
     "name": "stdout",
     "output_type": "stream",
     "text": [
      "0.33471826\n",
      "1.4351504769544992\n",
      "1249.9726628181218\n"
     ]
    }
   ],
   "source": [
    "columns_clustering = ['last_customer_age', 'last_accident_free_years', 'last_car_value', 'last_age_car', \"last_postcode\", \"last_fuel_type\", \"nr_years\", \"last_premium\", 'last_sales_channel', 'median_income_household', 'density', 'pc4']\n",
    "\n",
    "dist_matrix = gower.gower_matrix(df)\n",
    "\n",
    "# cluster = KMeans(n_clusters=3, random_state=0, n_init='auto').fit(dist_matrix)\n",
    "cluster = SpectralClustering(n_clusters=3, eigen_solver='lobpcg', gamma=0.1, n_components=2, n_neighbors=5, n_init=20).fit(dist_matrix)\n",
    "\n",
    "df[\"cluster\"] = cluster.labels_\n",
    "\n",
    "display(\n",
    "    df\n",
    "    .groupby(\"cluster\")\n",
    "    .agg(\n",
    "        count=pd.NamedAgg(column=\"churn\", aggfunc=\"count\"),\n",
    "        income=pd.NamedAgg(column=\"median_income_household\", aggfunc=\"mean\"),\n",
    "        perc_low_income=pd.NamedAgg(column=\"perc_low_income\", aggfunc=\"mean\"),\n",
    "        perc_high_income=pd.NamedAgg(column=\"perc_high_income\", aggfunc=\"mean\"),\n",
    "        density=pd.NamedAgg(column=\"density\", aggfunc=\"mean\"),\n",
    "        household_size=pd.NamedAgg(column=\"household_size\", aggfunc=\"mean\"),\n",
    "        welcome_discount=pd.NamedAgg(column=\"welcome_discount\", aggfunc=\"mean\"),\n",
    "        churn=pd.NamedAgg(column=\"churn\", aggfunc=\"mean\"),\n",
    "        last_customer_age=pd.NamedAgg(column=\"last_customer_age\", aggfunc=\"mean\"),\n",
    "        last_car_value=pd.NamedAgg(column=\"last_car_value\", aggfunc=\"mean\"),\n",
    "        perc_others_ppl=pd.NamedAgg(column=\"perc_others_ppl\", aggfunc=\"mean\"),\n",
    "        perc_nld_ppl=pd.NamedAgg(column=\"perc_nld_ppl\", aggfunc=\"mean\"),\n",
    "    )\n",
    ")\n",
    "\n",
    "print(silhouette_score(dist_matrix, df[\"cluster\"]))\n",
    "print(davies_bouldin_score(dist_matrix, df[\"cluster\"]))\n",
    "print(calinski_harabasz_score(dist_matrix, df[\"cluster\"]))"
   ]
  },
  {
   "cell_type": "code",
   "execution_count": null,
   "metadata": {},
   "outputs": [],
   "source": []
  }
 ],
 "metadata": {
  "kernelspec": {
   "display_name": "Python 3",
   "language": "python",
   "name": "python3"
  },
  "language_info": {
   "codemirror_mode": {
    "name": "ipython",
    "version": 3
   },
   "file_extension": ".py",
   "mimetype": "text/x-python",
   "name": "python",
   "nbconvert_exporter": "python",
   "pygments_lexer": "ipython3",
   "version": "3.8.16"
  }
 },
 "nbformat": 4,
 "nbformat_minor": 2
}
