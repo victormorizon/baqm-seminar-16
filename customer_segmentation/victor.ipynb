{
 "cells": [
  {
   "cell_type": "markdown",
   "metadata": {},
   "source": [
    "# Import Packages"
   ]
  },
  {
   "cell_type": "code",
   "execution_count": 1,
   "metadata": {},
   "outputs": [],
   "source": [
    "import pandas as pd\n",
    "from sklearn.preprocessing import StandardScaler\n",
    "import gower\n",
    "from sklearn.cluster import KMeans, SpectralClustering, DBSCAN, AgglomerativeClustering, HDBSCAN\n",
    "from sklearn.metrics import silhouette_score, davies_bouldin_score, calinski_harabasz_score"
   ]
  },
  {
   "cell_type": "markdown",
   "metadata": {},
   "source": [
    "# Load Data"
   ]
  },
  {
   "cell_type": "code",
   "execution_count": 2,
   "metadata": {},
   "outputs": [],
   "source": [
    "df = pd.read_csv(\"../data/prepped_data.csv\", low_memory=False, index_col=0).drop_duplicates()\n",
    "\n",
    "df = df[df[\"first_data_year\"] >= 2021].head(5000)"
   ]
  },
  {
   "cell_type": "markdown",
   "metadata": {},
   "source": [
    "# Apply Clustering"
   ]
  },
  {
   "cell_type": "code",
   "execution_count": 12,
   "metadata": {},
   "outputs": [
    {
     "data": {
      "text/html": [
       "<div>\n",
       "<style scoped>\n",
       "    .dataframe tbody tr th:only-of-type {\n",
       "        vertical-align: middle;\n",
       "    }\n",
       "\n",
       "    .dataframe tbody tr th {\n",
       "        vertical-align: top;\n",
       "    }\n",
       "\n",
       "    .dataframe thead th {\n",
       "        text-align: right;\n",
       "    }\n",
       "</style>\n",
       "<table border=\"1\" class=\"dataframe\">\n",
       "  <thead>\n",
       "    <tr style=\"text-align: right;\">\n",
       "      <th></th>\n",
       "      <th>count</th>\n",
       "      <th>income</th>\n",
       "      <th>perc_low_income</th>\n",
       "      <th>perc_high_income</th>\n",
       "      <th>density</th>\n",
       "      <th>household_size</th>\n",
       "      <th>welcome_discount</th>\n",
       "      <th>churn</th>\n",
       "      <th>last_customer_age</th>\n",
       "      <th>last_car_value</th>\n",
       "      <th>perc_others_ppl</th>\n",
       "      <th>perc_nld_ppl</th>\n",
       "    </tr>\n",
       "    <tr>\n",
       "      <th>cluster</th>\n",
       "      <th></th>\n",
       "      <th></th>\n",
       "      <th></th>\n",
       "      <th></th>\n",
       "      <th></th>\n",
       "      <th></th>\n",
       "      <th></th>\n",
       "      <th></th>\n",
       "      <th></th>\n",
       "      <th></th>\n",
       "      <th></th>\n",
       "      <th></th>\n",
       "    </tr>\n",
       "  </thead>\n",
       "  <tbody>\n",
       "    <tr>\n",
       "      <th>0</th>\n",
       "      <td>1328</td>\n",
       "      <td>32862.274096</td>\n",
       "      <td>38.090286</td>\n",
       "      <td>22.217620</td>\n",
       "      <td>2139.276355</td>\n",
       "      <td>2.249021</td>\n",
       "      <td>0.045929</td>\n",
       "      <td>0.098645</td>\n",
       "      <td>49.112199</td>\n",
       "      <td>330176.050602</td>\n",
       "      <td>20.504518</td>\n",
       "      <td>69.992470</td>\n",
       "    </tr>\n",
       "    <tr>\n",
       "      <th>1</th>\n",
       "      <td>2333</td>\n",
       "      <td>32034.462066</td>\n",
       "      <td>37.531247</td>\n",
       "      <td>19.642563</td>\n",
       "      <td>1133.444921</td>\n",
       "      <td>2.226447</td>\n",
       "      <td>0.030093</td>\n",
       "      <td>0.089156</td>\n",
       "      <td>51.247750</td>\n",
       "      <td>345164.494814</td>\n",
       "      <td>5.949421</td>\n",
       "      <td>83.600514</td>\n",
       "    </tr>\n",
       "    <tr>\n",
       "      <th>2</th>\n",
       "      <td>1339</td>\n",
       "      <td>31065.944735</td>\n",
       "      <td>42.108738</td>\n",
       "      <td>18.787528</td>\n",
       "      <td>2303.209858</td>\n",
       "      <td>2.172591</td>\n",
       "      <td>0.122119</td>\n",
       "      <td>0.203883</td>\n",
       "      <td>46.902166</td>\n",
       "      <td>483544.567588</td>\n",
       "      <td>22.285288</td>\n",
       "      <td>66.295743</td>\n",
       "    </tr>\n",
       "  </tbody>\n",
       "</table>\n",
       "</div>"
      ],
      "text/plain": [
       "         count        income  perc_low_income  perc_high_income      density  \\\n",
       "cluster                                                                        \n",
       "0         1328  32862.274096        38.090286         22.217620  2139.276355   \n",
       "1         2333  32034.462066        37.531247         19.642563  1133.444921   \n",
       "2         1339  31065.944735        42.108738         18.787528  2303.209858   \n",
       "\n",
       "         household_size  welcome_discount     churn  last_customer_age  \\\n",
       "cluster                                                                  \n",
       "0              2.249021          0.045929  0.098645          49.112199   \n",
       "1              2.226447          0.030093  0.089156          51.247750   \n",
       "2              2.172591          0.122119  0.203883          46.902166   \n",
       "\n",
       "         last_car_value  perc_others_ppl  perc_nld_ppl  \n",
       "cluster                                                 \n",
       "0         330176.050602        20.504518     69.992470  \n",
       "1         345164.494814         5.949421     83.600514  \n",
       "2         483544.567588        22.285288     66.295743  "
      ]
     },
     "metadata": {},
     "output_type": "display_data"
    },
    {
     "name": "stdout",
     "output_type": "stream",
     "text": [
      "0.26249254\n",
      "1.2927198181904045\n",
      "2261.5231449291737\n"
     ]
    }
   ],
   "source": [
    "columns_clustering = ['last_customer_age', 'last_accident_free_years', 'last_car_value', 'last_age_car', \"last_postcode\", \"last_fuel_type\", \"nr_years\", \"last_premium\", 'last_sales_channel', 'median_income_household', 'density', 'pc4']\n",
    "\n",
    "dist_matrix = gower.gower_matrix(df[columns_clustering])\n",
    "\n",
    "cluster = KMeans(n_clusters=3, random_state=0, n_init='auto').fit(dist_matrix)\n",
    "# cluster = HDBSCAN(min_cluster_size=3, min_samples=int(len(dist_matrix)/10)).fit(dist_matrix)\n",
    "\n",
    "df[\"cluster\"] = cluster.labels_\n",
    "\n",
    "display(\n",
    "    df\n",
    "    .groupby(\"cluster\")\n",
    "    .agg(\n",
    "        count=pd.NamedAgg(column=\"churn\", aggfunc=\"count\"),\n",
    "        income=pd.NamedAgg(column=\"median_income_household\", aggfunc=\"mean\"),\n",
    "        perc_low_income=pd.NamedAgg(column=\"perc_low_income\", aggfunc=\"mean\"),\n",
    "        perc_high_income=pd.NamedAgg(column=\"perc_high_income\", aggfunc=\"mean\"),\n",
    "        density=pd.NamedAgg(column=\"density\", aggfunc=\"mean\"),\n",
    "        household_size=pd.NamedAgg(column=\"household_size\", aggfunc=\"mean\"),\n",
    "        welcome_discount=pd.NamedAgg(column=\"welcome_discount\", aggfunc=\"mean\"),\n",
    "        churn=pd.NamedAgg(column=\"churn\", aggfunc=\"mean\"),\n",
    "        last_customer_age=pd.NamedAgg(column=\"last_customer_age\", aggfunc=\"mean\"),\n",
    "        last_car_value=pd.NamedAgg(column=\"last_car_value\", aggfunc=\"mean\"),\n",
    "        perc_others_ppl=pd.NamedAgg(column=\"perc_others_ppl\", aggfunc=\"mean\"),\n",
    "        perc_nld_ppl=pd.NamedAgg(column=\"perc_nld_ppl\", aggfunc=\"mean\"),\n",
    "    )\n",
    ")\n",
    "\n",
    "print(silhouette_score(dist_matrix, df[\"cluster\"]))\n",
    "print(davies_bouldin_score(dist_matrix, df[\"cluster\"]))\n",
    "print(calinski_harabasz_score(dist_matrix, df[\"cluster\"]))"
   ]
  },
  {
   "cell_type": "code",
   "execution_count": null,
   "metadata": {},
   "outputs": [],
   "source": []
  }
 ],
 "metadata": {
  "kernelspec": {
   "display_name": "Python 3",
   "language": "python",
   "name": "python3"
  },
  "language_info": {
   "codemirror_mode": {
    "name": "ipython",
    "version": 3
   },
   "file_extension": ".py",
   "mimetype": "text/x-python",
   "name": "python",
   "nbconvert_exporter": "python",
   "pygments_lexer": "ipython3",
   "version": "3.8.16"
  }
 },
 "nbformat": 4,
 "nbformat_minor": 2
}
