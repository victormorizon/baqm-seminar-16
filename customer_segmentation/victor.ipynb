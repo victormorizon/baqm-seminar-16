{
 "cells": [
  {
   "cell_type": "markdown",
   "metadata": {},
   "source": [
    "# Import Packages"
   ]
  },
  {
   "cell_type": "code",
   "execution_count": 72,
   "metadata": {},
   "outputs": [],
   "source": [
    "import pandas as pd\n",
    "from sklearn.cluster import DBSCAN\n",
    "import prince\n",
    "from sklearn.preprocessing import StandardScaler\n",
    "import gower\n",
    "from sklearn.cluster import KMeans"
   ]
  },
  {
   "cell_type": "markdown",
   "metadata": {},
   "source": [
    "# Load Data"
   ]
  },
  {
   "cell_type": "code",
   "execution_count": 80,
   "metadata": {},
   "outputs": [],
   "source": [
    "df = pd.read_csv(\"../data/prepped_data.csv\", low_memory=False, index_col=0).drop_duplicates()\n",
    "\n",
    "df = df[df[\"first_data_year\"] >= 2021].head(5000)\n",
    "\n",
    "columns_clustering = ['last_customer_age', 'last_accident_free_years', 'last_car_value', 'last_age_car', \"last_postcode\", \"last_fuel_type\", \"nr_years\", \"last_premium\", 'last_sales_channel', 'pc4', 'median_income_household', 'density', 'perc_others_ppl']"
   ]
  },
  {
   "cell_type": "markdown",
   "metadata": {},
   "source": [
    "# Apply Clustering"
   ]
  },
  {
   "cell_type": "code",
   "execution_count": 84,
   "metadata": {},
   "outputs": [
    {
     "data": {
      "text/html": [
       "<div>\n",
       "<style scoped>\n",
       "    .dataframe tbody tr th:only-of-type {\n",
       "        vertical-align: middle;\n",
       "    }\n",
       "\n",
       "    .dataframe tbody tr th {\n",
       "        vertical-align: top;\n",
       "    }\n",
       "\n",
       "    .dataframe thead th {\n",
       "        text-align: right;\n",
       "    }\n",
       "</style>\n",
       "<table border=\"1\" class=\"dataframe\">\n",
       "  <thead>\n",
       "    <tr style=\"text-align: right;\">\n",
       "      <th></th>\n",
       "      <th>income</th>\n",
       "      <th>perc_low_income</th>\n",
       "      <th>perc_high_income</th>\n",
       "      <th>density</th>\n",
       "      <th>household_size</th>\n",
       "      <th>welcome_discount</th>\n",
       "      <th>churn</th>\n",
       "      <th>last_customer_age</th>\n",
       "      <th>last_car_value</th>\n",
       "    </tr>\n",
       "    <tr>\n",
       "      <th>cluster</th>\n",
       "      <th></th>\n",
       "      <th></th>\n",
       "      <th></th>\n",
       "      <th></th>\n",
       "      <th></th>\n",
       "      <th></th>\n",
       "      <th></th>\n",
       "      <th></th>\n",
       "      <th></th>\n",
       "    </tr>\n",
       "  </thead>\n",
       "  <tbody>\n",
       "    <tr>\n",
       "      <th>0</th>\n",
       "      <td>33251.653196</td>\n",
       "      <td>36.941587</td>\n",
       "      <td>22.710580</td>\n",
       "      <td>1910.099192</td>\n",
       "      <td>2.251212</td>\n",
       "      <td>0.044035</td>\n",
       "      <td>0.109478</td>\n",
       "      <td>49.691403</td>\n",
       "      <td>330422.951359</td>\n",
       "    </tr>\n",
       "    <tr>\n",
       "      <th>1</th>\n",
       "      <td>32276.230769</td>\n",
       "      <td>36.918577</td>\n",
       "      <td>20.009308</td>\n",
       "      <td>1073.104615</td>\n",
       "      <td>2.237423</td>\n",
       "      <td>0.039511</td>\n",
       "      <td>0.094615</td>\n",
       "      <td>51.356538</td>\n",
       "      <td>367588.191385</td>\n",
       "    </tr>\n",
       "    <tr>\n",
       "      <th>2</th>\n",
       "      <td>29644.947064</td>\n",
       "      <td>46.450529</td>\n",
       "      <td>16.895380</td>\n",
       "      <td>3060.218479</td>\n",
       "      <td>2.125987</td>\n",
       "      <td>0.127101</td>\n",
       "      <td>0.208855</td>\n",
       "      <td>44.684312</td>\n",
       "      <td>467539.752839</td>\n",
       "    </tr>\n",
       "  </tbody>\n",
       "</table>\n",
       "</div>"
      ],
      "text/plain": [
       "               income  perc_low_income  perc_high_income      density  \\\n",
       "cluster                                                                 \n",
       "0        33251.653196        36.941587         22.710580  1910.099192   \n",
       "1        32276.230769        36.918577         20.009308  1073.104615   \n",
       "2        29644.947064        46.450529         16.895380  3060.218479   \n",
       "\n",
       "         household_size  welcome_discount     churn  last_customer_age  \\\n",
       "cluster                                                                  \n",
       "0              2.251212          0.044035  0.109478          49.691403   \n",
       "1              2.237423          0.039511  0.094615          51.356538   \n",
       "2              2.125987          0.127101  0.208855          44.684312   \n",
       "\n",
       "         last_car_value  \n",
       "cluster                  \n",
       "0         330422.951359  \n",
       "1         367588.191385  \n",
       "2         467539.752839  "
      ]
     },
     "metadata": {},
     "output_type": "display_data"
    }
   ],
   "source": [
    "dist_matrix = gower.gower_matrix(df[columns_clustering])\n",
    "\n",
    "cluster = KMeans(n_clusters=3, random_state=0, n_init=\"auto\").fit(dist_matrix)\n",
    "\n",
    "df[\"cluster\"] = cluster.labels_\n",
    "\n",
    "display(\n",
    "    df\n",
    "    .groupby(\"cluster\")\n",
    "    .agg(\n",
    "        income=pd.NamedAgg(column=\"median_income_household\", aggfunc=\"mean\"),\n",
    "        perc_low_income=pd.NamedAgg(column=\"perc_low_income\", aggfunc=\"mean\"),\n",
    "        perc_high_income=pd.NamedAgg(column=\"perc_high_income\", aggfunc=\"mean\"),\n",
    "        density=pd.NamedAgg(column=\"density\", aggfunc=\"mean\"),\n",
    "        household_size=pd.NamedAgg(column=\"household_size\", aggfunc=\"mean\"),\n",
    "        welcome_discount=pd.NamedAgg(column=\"welcome_discount\", aggfunc=\"mean\"),\n",
    "        churn=pd.NamedAgg(column=\"churn\", aggfunc=\"mean\"),\n",
    "        last_customer_age=pd.NamedAgg(column=\"last_customer_age\", aggfunc=\"mean\"),\n",
    "        last_car_value=pd.NamedAgg(column=\"last_car_value\", aggfunc=\"mean\"),\n",
    "        # perc_others_ppl=pd.NamedAgg(column=\"perc_others_ppl\", aggfunc=\"mean\"),\n",
    "    )\n",
    ")"
   ]
  },
  {
   "cell_type": "code",
   "execution_count": null,
   "metadata": {},
   "outputs": [],
   "source": []
  }
 ],
 "metadata": {
  "kernelspec": {
   "display_name": "Python 3",
   "language": "python",
   "name": "python3"
  },
  "language_info": {
   "codemirror_mode": {
    "name": "ipython",
    "version": 3
   },
   "file_extension": ".py",
   "mimetype": "text/x-python",
   "name": "python",
   "nbconvert_exporter": "python",
   "pygments_lexer": "ipython3",
   "version": "3.8.16"
  }
 },
 "nbformat": 4,
 "nbformat_minor": 2
}
