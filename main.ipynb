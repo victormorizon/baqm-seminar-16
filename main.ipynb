{
 "cells": [
  {
   "cell_type": "markdown",
   "metadata": {},
   "source": [
    "# Import Packages"
   ]
  },
  {
   "cell_type": "code",
   "execution_count": 51,
   "metadata": {},
   "outputs": [
    {
     "name": "stderr",
     "output_type": "stream",
     "text": [
      "24/01/22 15:24:34 WARN SparkSession: Using an existing Spark session; only runtime SQL configurations will take effect.\n"
     ]
    }
   ],
   "source": [
    "import pandas as pd\n",
    "import numpy as np\n",
    "from pyspark.sql import SparkSession\n",
    "from pyspark.sql.window import Window\n",
    "import pyspark.sql.functions as f\n",
    "\n",
    "spark = SparkSession.builder.appName(\"example\").getOrCreate()"
   ]
  },
  {
   "cell_type": "markdown",
   "metadata": {},
   "source": [
    "# Load Data"
   ]
  },
  {
   "cell_type": "code",
   "execution_count": 102,
   "metadata": {},
   "outputs": [],
   "source": [
    "input_df = pd.read_csv(\"./data/20240117_churn_data.csv\", low_memory=False)"
   ]
  },
  {
   "cell_type": "code",
   "execution_count": null,
   "metadata": {},
   "outputs": [],
   "source": [
    "display(input_df[input_df[\"welcome_discount\"]])"
   ]
  },
  {
   "cell_type": "code",
   "execution_count": 104,
   "metadata": {},
   "outputs": [
    {
     "data": {
      "text/html": [
       "<div>\n",
       "<style scoped>\n",
       "    .dataframe tbody tr th:only-of-type {\n",
       "        vertical-align: middle;\n",
       "    }\n",
       "\n",
       "    .dataframe tbody tr th {\n",
       "        vertical-align: top;\n",
       "    }\n",
       "\n",
       "    .dataframe thead th {\n",
       "        text-align: right;\n",
       "    }\n",
       "</style>\n",
       "<table border=\"1\" class=\"dataframe\">\n",
       "  <thead>\n",
       "    <tr style=\"text-align: right;\">\n",
       "      <th></th>\n",
       "      <th>policy_nr_hashed</th>\n",
       "      <th>year_initiation_policy_version</th>\n",
       "      <th>welcome_discount</th>\n",
       "      <th>welcome_discount_control_group</th>\n",
       "      <th>d_churn</th>\n",
       "      <th>total_premium</th>\n",
       "    </tr>\n",
       "  </thead>\n",
       "  <tbody>\n",
       "    <tr>\n",
       "      <th>84183</th>\n",
       "      <td>ypg8QA2</td>\n",
       "      <td>2021.0</td>\n",
       "      <td>0.99</td>\n",
       "      <td>WD and no LPA</td>\n",
       "      <td>0</td>\n",
       "      <td>6605.76</td>\n",
       "    </tr>\n",
       "    <tr>\n",
       "      <th>314198</th>\n",
       "      <td>ypg8QA2</td>\n",
       "      <td>2021.0</td>\n",
       "      <td>0.99</td>\n",
       "      <td>WD and no LPA</td>\n",
       "      <td>0</td>\n",
       "      <td>6605.76</td>\n",
       "    </tr>\n",
       "    <tr>\n",
       "      <th>371371</th>\n",
       "      <td>ypg8QA2</td>\n",
       "      <td>2021.0</td>\n",
       "      <td>0.99</td>\n",
       "      <td>WD and no LPA</td>\n",
       "      <td>0</td>\n",
       "      <td>6605.76</td>\n",
       "    </tr>\n",
       "  </tbody>\n",
       "</table>\n",
       "</div>"
      ],
      "text/plain": [
       "       policy_nr_hashed  year_initiation_policy_version  welcome_discount  \\\n",
       "84183           ypg8QA2                          2021.0              0.99   \n",
       "314198          ypg8QA2                          2021.0              0.99   \n",
       "371371          ypg8QA2                          2021.0              0.99   \n",
       "\n",
       "       welcome_discount_control_group  d_churn  total_premium  \n",
       "84183                   WD and no LPA        0        6605.76  \n",
       "314198                  WD and no LPA        0        6605.76  \n",
       "371371                  WD and no LPA        0        6605.76  "
      ]
     },
     "metadata": {},
     "output_type": "display_data"
    }
   ],
   "source": [
    "display(input_df[input_df[\"policy_nr_hashed\"] == \"ypg8QA2\"][[\"policy_nr_hashed\", \"year_initiation_policy_version\", \"welcome_discount\", \"welcome_discount_control_group\", \"d_churn\", \"total_premium\"]])"
   ]
  },
  {
   "cell_type": "markdown",
   "metadata": {},
   "source": [
    "# Prepare Data"
   ]
  },
  {
   "cell_type": "code",
   "execution_count": 194,
   "metadata": {},
   "outputs": [
    {
     "data": {
      "text/html": [
       "<div>\n",
       "<style scoped>\n",
       "    .dataframe tbody tr th:only-of-type {\n",
       "        vertical-align: middle;\n",
       "    }\n",
       "\n",
       "    .dataframe tbody tr th {\n",
       "        vertical-align: top;\n",
       "    }\n",
       "\n",
       "    .dataframe thead th {\n",
       "        text-align: right;\n",
       "    }\n",
       "</style>\n",
       "<table border=\"1\" class=\"dataframe\">\n",
       "  <thead>\n",
       "    <tr style=\"text-align: right;\">\n",
       "      <th></th>\n",
       "      <th>policy_nr_hashed</th>\n",
       "      <th>year_initiation_policy_version</th>\n",
       "      <th>welcome_discount</th>\n",
       "      <th>welcome_discount_control_group</th>\n",
       "      <th>d_churn</th>\n",
       "      <th>year_end_policy</th>\n",
       "      <th>mutation_1</th>\n",
       "    </tr>\n",
       "  </thead>\n",
       "  <tbody>\n",
       "    <tr>\n",
       "      <th>423572</th>\n",
       "      <td>JBw6R7e</td>\n",
       "      <td>2023.0</td>\n",
       "      <td>0.9952</td>\n",
       "      <td>WD and LPA</td>\n",
       "      <td>0</td>\n",
       "      <td>NaN</td>\n",
       "      <td>NaN</td>\n",
       "    </tr>\n",
       "  </tbody>\n",
       "</table>\n",
       "</div>"
      ],
      "text/plain": [
       "       policy_nr_hashed  year_initiation_policy_version  welcome_discount  \\\n",
       "423572          JBw6R7e                          2023.0            0.9952   \n",
       "\n",
       "       welcome_discount_control_group  d_churn  year_end_policy mutation_1  \n",
       "423572                     WD and LPA        0              NaN        NaN  "
      ]
     },
     "metadata": {},
     "output_type": "display_data"
    }
   ],
   "source": [
    "# Only keep customers that joined after welcome discount was introduced\n",
    "input_df = input_df[input_df[\"year_initiation_policy\"] > 2019].drop_duplicates()\n",
    "\n",
    "input_df[\"years_to_churn\"] = input_df[\"years_since_policy_started\"] * input_df[\"d_churn_around_prolongation\"]\n",
    "\n",
    "input_df['non_relevant_churn'] = input_df.groupby('policy_nr_hashed')[['d_churn_between_prolongations', 'd_churn_cancellation']].transform('sum').sum(axis=1)\n",
    "\n",
    "input_df = input_df[input_df['non_relevant_churn'] == 0]\n",
    "\n",
    "# print(input_df.columns)\n",
    "\n",
    "test = input_df.groupby(\"policy_nr_hashed\")['welcome_discount_control_group'].apply(set).reset_index()\n",
    "test[\"size_control\"] = test[\"welcome_discount_control_group\"].str.len()\n",
    "\n",
    "# rLmkOem: 1 data point duplicated and not churning (no mutation)\n",
    "# 0WK77VZ: discount applied for multiple years?\n",
    "# A lot of those (rLmkOem, 0WK77VZ, etc.) have different values in 'welcome_discount_control_group' accross different years. We thought this should be constant per policy?\n",
    "\n",
    "display(input_df[input_df[\"policy_nr_hashed\"] == \"JBw6R7e\"][[\"policy_nr_hashed\", \"year_initiation_policy_version\", \"welcome_discount\", \"welcome_discount_control_group\", \"d_churn\", \"year_end_policy\", \"mutation_1\"]])\n",
    "\n",
    "# display(test[test[\"size_control\"] == 3])"
   ]
  },
  {
   "cell_type": "code",
   "execution_count": 196,
   "metadata": {},
   "outputs": [
    {
     "name": "stdout",
     "output_type": "stream",
     "text": [
      "0.48000000000000265\n"
     ]
    }
   ],
   "source": [
    "print((1-0.9952)*100)"
   ]
  },
  {
   "cell_type": "code",
   "execution_count": null,
   "metadata": {},
   "outputs": [],
   "source": []
  }
 ],
 "metadata": {
  "kernelspec": {
   "display_name": "Python 3",
   "language": "python",
   "name": "python3"
  },
  "language_info": {
   "codemirror_mode": {
    "name": "ipython",
    "version": 3
   },
   "file_extension": ".py",
   "mimetype": "text/x-python",
   "name": "python",
   "nbconvert_exporter": "python",
   "pygments_lexer": "ipython3",
   "version": "3.8.18"
  }
 },
 "nbformat": 4,
 "nbformat_minor": 2
}
