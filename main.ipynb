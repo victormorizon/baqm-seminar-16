{
 "cells": [
  {
   "cell_type": "markdown",
   "metadata": {},
   "source": [
    "# Import Packages"
   ]
  },
  {
   "cell_type": "code",
   "execution_count": 1,
   "metadata": {},
   "outputs": [],
   "source": [
    "import pandas as pd\n",
    "import numpy as np"
   ]
  },
  {
   "cell_type": "markdown",
   "metadata": {},
   "source": [
    "# Load Data"
   ]
  },
  {
   "cell_type": "code",
   "execution_count": 9,
   "metadata": {},
   "outputs": [
    {
     "data": {
      "text/html": [
       "<div>\n",
       "<style scoped>\n",
       "    .dataframe tbody tr th:only-of-type {\n",
       "        vertical-align: middle;\n",
       "    }\n",
       "\n",
       "    .dataframe tbody tr th {\n",
       "        vertical-align: top;\n",
       "    }\n",
       "\n",
       "    .dataframe thead th {\n",
       "        text-align: right;\n",
       "    }\n",
       "</style>\n",
       "<table border=\"1\" class=\"dataframe\">\n",
       "  <thead>\n",
       "    <tr style=\"text-align: right;\">\n",
       "      <th></th>\n",
       "      <th>policy_nr_hashed</th>\n",
       "      <th>years_since_policy_started</th>\n",
       "      <th>year_initiation_policy</th>\n",
       "      <th>year_initiation_policy_version</th>\n",
       "      <th>year_end_policy</th>\n",
       "      <th>d_churn</th>\n",
       "      <th>d_churn_cancellation</th>\n",
       "      <th>d_churn_between_prolongations</th>\n",
       "      <th>d_churn_around_prolongation</th>\n",
       "      <th>premium_main_coverages</th>\n",
       "      <th>...</th>\n",
       "      <th>premium_change_mutation_8</th>\n",
       "      <th>mutation_9</th>\n",
       "      <th>premium_change_mutation_9</th>\n",
       "      <th>mutation_10</th>\n",
       "      <th>premium_change_mutation_10</th>\n",
       "      <th>mutation_11</th>\n",
       "      <th>premium_change_mutation_11</th>\n",
       "      <th>mutation_12</th>\n",
       "      <th>premium_change_mutation_12</th>\n",
       "      <th>data_collection_date</th>\n",
       "    </tr>\n",
       "  </thead>\n",
       "  <tbody>\n",
       "    <tr>\n",
       "      <th>386441</th>\n",
       "      <td>dBy9zk9</td>\n",
       "      <td>0</td>\n",
       "      <td>2022</td>\n",
       "      <td>2022.0</td>\n",
       "      <td>2023.0</td>\n",
       "      <td>0</td>\n",
       "      <td>0</td>\n",
       "      <td>0</td>\n",
       "      <td>0</td>\n",
       "      <td>4919.04</td>\n",
       "      <td>...</td>\n",
       "      <td>NaN</td>\n",
       "      <td>NaN</td>\n",
       "      <td>NaN</td>\n",
       "      <td>NaN</td>\n",
       "      <td>NaN</td>\n",
       "      <td>NaN</td>\n",
       "      <td>NaN</td>\n",
       "      <td>NaN</td>\n",
       "      <td>NaN</td>\n",
       "      <td>2023-12-15</td>\n",
       "    </tr>\n",
       "    <tr>\n",
       "      <th>437424</th>\n",
       "      <td>dBy9zk9</td>\n",
       "      <td>1</td>\n",
       "      <td>2022</td>\n",
       "      <td>2023.0</td>\n",
       "      <td>2023.0</td>\n",
       "      <td>1</td>\n",
       "      <td>0</td>\n",
       "      <td>0</td>\n",
       "      <td>1</td>\n",
       "      <td>NaN</td>\n",
       "      <td>...</td>\n",
       "      <td>NaN</td>\n",
       "      <td>NaN</td>\n",
       "      <td>NaN</td>\n",
       "      <td>NaN</td>\n",
       "      <td>NaN</td>\n",
       "      <td>NaN</td>\n",
       "      <td>NaN</td>\n",
       "      <td>NaN</td>\n",
       "      <td>NaN</td>\n",
       "      <td>2023-12-15</td>\n",
       "    </tr>\n",
       "  </tbody>\n",
       "</table>\n",
       "<p>2 rows × 58 columns</p>\n",
       "</div>"
      ],
      "text/plain": [
       "       policy_nr_hashed  years_since_policy_started  year_initiation_policy  \\\n",
       "386441          dBy9zk9                           0                    2022   \n",
       "437424          dBy9zk9                           1                    2022   \n",
       "\n",
       "        year_initiation_policy_version  year_end_policy  d_churn  \\\n",
       "386441                          2022.0           2023.0        0   \n",
       "437424                          2023.0           2023.0        1   \n",
       "\n",
       "        d_churn_cancellation  d_churn_between_prolongations  \\\n",
       "386441                     0                              0   \n",
       "437424                     0                              0   \n",
       "\n",
       "        d_churn_around_prolongation  premium_main_coverages  ...  \\\n",
       "386441                            0                 4919.04  ...   \n",
       "437424                            1                     NaN  ...   \n",
       "\n",
       "        premium_change_mutation_8  mutation_9  premium_change_mutation_9  \\\n",
       "386441                        NaN         NaN                        NaN   \n",
       "437424                        NaN         NaN                        NaN   \n",
       "\n",
       "       mutation_10  premium_change_mutation_10  mutation_11  \\\n",
       "386441         NaN                         NaN          NaN   \n",
       "437424         NaN                         NaN          NaN   \n",
       "\n",
       "        premium_change_mutation_11  mutation_12 premium_change_mutation_12  \\\n",
       "386441                         NaN          NaN                        NaN   \n",
       "437424                         NaN          NaN                        NaN   \n",
       "\n",
       "       data_collection_date  \n",
       "386441           2023-12-15  \n",
       "437424           2023-12-15  \n",
       "\n",
       "[2 rows x 58 columns]"
      ]
     },
     "metadata": {},
     "output_type": "display_data"
    }
   ],
   "source": [
    "input_df = pd.read_csv(\"./data/20240117_churn_data.csv\", low_memory=False)\n",
    "\n",
    "display(input_df[input_df[\"policy_nr_hashed\"] == \"dBy9zk9\"])"
   ]
  },
  {
   "cell_type": "code",
   "execution_count": null,
   "metadata": {},
   "outputs": [],
   "source": []
  }
 ],
 "metadata": {
  "kernelspec": {
   "display_name": "Python 3",
   "language": "python",
   "name": "python3"
  },
  "language_info": {
   "codemirror_mode": {
    "name": "ipython",
    "version": 3
   },
   "file_extension": ".py",
   "mimetype": "text/x-python",
   "name": "python",
   "nbconvert_exporter": "python",
   "pygments_lexer": "ipython3",
   "version": "3.8.18"
  }
 },
 "nbformat": 4,
 "nbformat_minor": 2
}
