{
 "cells": [
  {
   "cell_type": "markdown",
   "metadata": {},
   "source": [
    "# Import Packages"
   ]
  },
  {
   "cell_type": "code",
   "execution_count": 1,
   "metadata": {},
   "outputs": [],
   "source": [
    "import pandas as pd\n",
    "import numpy as np\n",
    "import lightgbm as lgb\n",
    "import sklearn\n",
    "from sklearn.model_selection import train_test_split\n",
    "from sklearn.metrics import f1_score, confusion_matrix, roc_auc_score, ConfusionMatrixDisplay, average_precision_score, make_scorer, mean_absolute_error, median_absolute_error\n",
    "from sklearn.model_selection import cross_val_score\n",
    "import matplotlib.pyplot as plt\n",
    "from hyperopt import fmin, tpe, hp, STATUS_OK, Trials"
   ]
  },
  {
   "cell_type": "markdown",
   "metadata": {},
   "source": [
    "# Load Data"
   ]
  },
  {
   "cell_type": "code",
   "execution_count": 2,
   "metadata": {},
   "outputs": [],
   "source": [
    "df = pd.read_csv(\"../data/prepped_data.csv\", low_memory=False, index_col=0).drop_duplicates()\n",
    "\n",
    "df = df[df[\"first_data_year\"] >= 2021]"
   ]
  },
  {
   "cell_type": "markdown",
   "metadata": {},
   "source": [
    "# Setup Model"
   ]
  },
  {
   "cell_type": "code",
   "execution_count": 3,
   "metadata": {},
   "outputs": [
    {
     "name": "stdout",
     "output_type": "stream",
     "text": [
      "Binary Features: ['churn', 'last_allrisk basis', 'last_allrisk compleet', 'last_allrisk royaal', 'last_wa-extra', 'fake_alarm', 'policyholder_change', 'n_last_vs_peak', 'lpa']\n",
      "Categorical Features: ['policy_nr_hashed', 'last_data_year', 'first_data_year', 'control_group', 'last_brand', 'last_type', 'last_fuel_type', 'last_postcode', 'last_product', 'nr_cars', 'max_nr_coverages', 'last_nr_coverages', 'last_trend_nr_coverages', 'last_year_car_change']\n",
      "Continuous Features: ['welcome_discount', 'first_premium', 'last_premium', 'first_split', 'last_split', 'last_customer_age', 'last_accident_free_years', 'last_car_value', 'last_age_car', 'last_weight', 'accident_years', 'last_change_premium_abs', 'last_change_premium_perc', 'last_vs_first_split', 'cum_change_premium_abs', 'cum_change_premium_perc', 'years_since_last_car_change']\n"
     ]
    }
   ],
   "source": [
    "categorical_features = []\n",
    "continuous_features = []\n",
    "binary_features = []\n",
    "\n",
    "# Define a threshold for the maximum number of unique values for a categorical column\n",
    "max_unique_values_for_categorical = 10\n",
    "\n",
    "# Iterate through each column to determine if it's categorical, continuous, or binary\n",
    "for column in df.columns:\n",
    "    unique_values = df[column].nunique()\n",
    "    if unique_values == 2:\n",
    "        # If exactly 2 unique values, treat column as binary\n",
    "        binary_features.append(column)\n",
    "    elif (df[column].dtype == 'object' or unique_values <= max_unique_values_for_categorical) and unique_values > 2:\n",
    "        # If object type or up to the threshold of unique values (and more than 2), treat as categorical\n",
    "        categorical_features.append(column)\n",
    "    else:\n",
    "        # Otherwise, treat as continuous\n",
    "        continuous_features.append(column)\n",
    "\n",
    "categorical_features = [col for col in categorical_features if col != \"years_since_last_car_change\"]\n",
    "continuous_features = continuous_features + [\"years_since_last_car_change\"]\n",
    "\n",
    "print(f'Binary Features: {binary_features}')\n",
    "print(f'Categorical Features: {categorical_features}')\n",
    "print(f'Continuous Features: {continuous_features}')\n",
    "\n",
    "# df = pd.get_dummies(df, columns=categorical_features)\n",
    "\n",
    "for cat in categorical_features:\n",
    "     df[cat] = df[cat].astype(\"category\")"
   ]
  },
  {
   "cell_type": "code",
   "execution_count": 4,
   "metadata": {},
   "outputs": [],
   "source": [
    "# cols_to_drop_manual = [\"first_split\", \"first_premium\", \"nr_cars\", \"last_type\", \"last_brand\", 'last_weight', 'n_last_vs_peak', 'last_fuel_type', 'last_trend_nr_coverages', 'last_change_premium_abs', 'last_change_premium_perc', 'max_nr_coverages', 'last_nr_coverages',]\n",
    "cols_to_drop = [\"churn\", \"policy_nr_hashed\", \"last_data_year\", \"first_data_year\", \"control_group\", 'welcome_discount']\n",
    "selected_columns = [col for col in df.columns if not any(col.startswith(prefix) for prefix in cols_to_drop)]\n",
    "\n",
    "X = df[selected_columns]\n",
    "y = df['churn']\n",
    "\n",
    "X_train, X_test, y_train, y_test = train_test_split(X, y, test_size = 0.3, random_state = 0)"
   ]
  },
  {
   "cell_type": "markdown",
   "metadata": {},
   "source": [
    "# Model Selection"
   ]
  },
  {
   "cell_type": "code",
   "execution_count": 6,
   "metadata": {},
   "outputs": [
    {
     "name": "stdout",
     "output_type": "stream",
     "text": [
      "100%|██████████| 50/50 [02:32<00:00,  3.04s/trial, best loss: 0.10895153945982257]\n",
      "Best Score is:  -0.10895153945982257\n",
      "Best Parameters:  {'colsample_bytree': 0.2983935721861137, 'learning_rate': 0.04740706929909022, 'max_depth': 59.0, 'min_child_samples': 18.0, 'min_data_in_leaf': 13.0, 'min_split_gain': 0.3863623673164322, 'n_estimators': 74.0, 'num_leaves': 54.0, 'reg_alpha': 0.1198683978345154, 'reg_lambda': 0.18168767473399486, 'subsample': 0.9841777438197711, 'subsample_freq': 27.0}\n"
     ]
    }
   ],
   "source": [
    "space = {\n",
    "    'max_depth': hp.uniformint('max_depth', 50, 100),\n",
    "    'n_estimators': hp.uniformint('n_estimators', 50, 200),\n",
    "    'num_leaves': hp.uniformint('num_leaves', 2, 200),\n",
    "    'min_child_samples': hp.uniformint('min_child_samples', 7, 100),\n",
    "    'colsample_bytree': hp.uniform('colsample_bytree', 0.25, 1),\n",
    "    'subsample': hp.uniform('subsample', 0.25, 1),\n",
    "    'subsample_freq': hp.uniformint('subsample_freq', 1, 100),\n",
    "    'reg_alpha': hp.uniform('reg_alpha', 0, 0.2),\n",
    "    'reg_lambda': hp.uniform('reg_lambda', 0, 0.2),\n",
    "    'min_split_gain': hp.uniform('min_split_gain', 0, 0.5),\n",
    "    'learning_rate': hp.uniform('learning_rate', 0.01, 0.1),\n",
    "    'min_data_in_leaf': hp.uniformint('min_data_in_leaf', 1, 21),\n",
    "}\n",
    "\n",
    "def objective(params):\n",
    "    clf = lgb.LGBMClassifier(\n",
    "        objective='binary',\n",
    "        force_row_wise=True,\n",
    "        verbosity=-1,\n",
    "        # is_unbalance=True,\n",
    "        **params\n",
    "    )\n",
    "    score = cross_val_score(clf, X_train, y_train, cv=5, scoring=\"neg_brier_score\").mean()\n",
    "    return {'loss': -score, 'status': STATUS_OK}\n",
    "\n",
    "n_iter = 50\n",
    "trials = Trials()\n",
    "\n",
    "best = fmin(fn=objective, space=space, algo=tpe.suggest, max_evals=n_iter, trials=trials, rstate=np.random.RandomState(0))\n",
    "\n",
    "print(\"Best Score is: \", -trials.best_trial['result']['loss'])\n",
    "print(\"Best Parameters: \", best)"
   ]
  },
  {
   "cell_type": "code",
   "execution_count": 9,
   "metadata": {},
   "outputs": [],
   "source": [
    "# best = {'colsample_bytree': 0.2983935721861137, 'learning_rate': 0.04740706929909022, 'max_depth': 59.0, 'min_child_samples': 18.0, 'min_data_in_leaf': 13.0, 'min_split_gain': 0.3863623673164322, 'n_estimators': 74.0, 'num_leaves': 54.0, 'reg_alpha': 0.1198683978345154, 'reg_lambda': 0.18168767473399486, 'subsample': 0.9841777438197711, 'subsample_freq': 27.0}\n",
    "\n",
    "best_params = {\n",
    "    'max_depth': int(best['max_depth']),\n",
    "    'n_estimators': int(best['n_estimators']),\n",
    "    'num_leaves': int(best['num_leaves']),\n",
    "    'min_child_samples': int(best['min_child_samples']),\n",
    "    'colsample_bytree': best['colsample_bytree'],\n",
    "    'subsample': best['subsample'],\n",
    "    'subsample_freq': int(best['subsample_freq']),\n",
    "    'reg_alpha': best['reg_alpha'],\n",
    "    'reg_lambda': best['reg_lambda'],\n",
    "    'min_split_gain': best['min_split_gain'],\n",
    "    'learning_rate': best['learning_rate'],\n",
    "    'min_data_in_leaf': int(best['min_data_in_leaf']),\n",
    "}\n",
    "\n",
    "lgbm_best = lgb.LGBMClassifier(\n",
    "    objective='binary',\n",
    "    force_row_wise=True,\n",
    "    verbosity=-1,\n",
    "    # is_unbalance=True,\n",
    "    **best_params\n",
    ")"
   ]
  },
  {
   "cell_type": "markdown",
   "metadata": {},
   "source": [
    "# Validation"
   ]
  },
  {
   "cell_type": "code",
   "execution_count": 10,
   "metadata": {},
   "outputs": [],
   "source": [
    "def mae_prob(y_true, y_pred_probs):\n",
    "    return mean_absolute_error(y_true, y_pred_probs)\n",
    "\n",
    "def medae_prob(y_true, y_pred_probs):\n",
    "    return median_absolute_error(y_true, y_pred_probs)\n",
    "\n",
    "mae_prob_scorer = make_scorer(mae_prob, needs_proba=True)\n",
    "medae_prob_scorer = make_scorer(medae_prob, needs_proba=True)"
   ]
  },
  {
   "cell_type": "code",
   "execution_count": 11,
   "metadata": {},
   "outputs": [
    {
     "name": "stdout",
     "output_type": "stream",
     "text": [
      "CV Average Brier score: 0.1066\n",
      "CV Average Log Loss: 0.3535\n",
      "CV Average Root Brier score: 0.3266\n",
      "CV MAE: 0.2143\n",
      "CV MedAE: 0.1207\n"
     ]
    }
   ],
   "source": [
    "scores_brier = cross_val_score(lgbm_best, X, y, cv=5, scoring='neg_brier_score')\n",
    "scores_log_loss = cross_val_score(lgbm_best, X, y, cv=5, scoring='neg_log_loss')\n",
    "scores_mae = cross_val_score(lgbm_best, X, y, cv=5, scoring=mae_prob_scorer)\n",
    "scores_medae = cross_val_score(lgbm_best, X, y, cv=5, scoring=medae_prob_scorer)\n",
    "\n",
    "print('CV Average Brier score: {0:0.4f}'.format(-np.mean(scores_brier)))\n",
    "print('CV Average Log Loss: {0:0.4f}'.format(-np.mean(scores_log_loss)))\n",
    "print('CV Average Root Brier score: {0:0.4f}'.format(np.sqrt(-np.mean(scores_brier))))\n",
    "print('CV MAE: {0:0.4f}'.format(np.mean(scores_mae)))\n",
    "print('CV MedAE: {0:0.4f}'.format(np.mean(scores_medae)))"
   ]
  },
  {
   "cell_type": "code",
   "execution_count": 65,
   "metadata": {},
   "outputs": [
    {
     "data": {
      "image/png": "[encoded data removed]",
      "text/plain": [
       "<Figure size 640x480 with 2 Axes>"
      ]
     },
     "metadata": {},
     "output_type": "display_data"
    }
   ],
   "source": [
    "lgbm_best.fit(X_train, y_train)\n",
    "\n",
    "threshold = 0.5\n",
    "probabilities = lgbm_best.predict_proba(X_test)[:, 1]\n",
    "y_pred = np.abs(np.ceil(np.array(probabilities) - threshold)).astype(\"int\")\n",
    "\n",
    "cm = confusion_matrix(y_test, y_pred)\n",
    "disp = ConfusionMatrixDisplay(confusion_matrix=cm, display_labels=lgbm_best.classes_)\n",
    "disp.plot()\n",
    "plt.show()"
   ]
  },
  {
   "cell_type": "code",
   "execution_count": null,
   "metadata": {},
   "outputs": [],
   "source": []
  }
 ],
 "metadata": {
  "kernelspec": {
   "display_name": "Python 3",
   "language": "python",
   "name": "python3"
  },
  "language_info": {
   "codemirror_mode": {
    "name": "ipython",
    "version": 3
   },
   "file_extension": ".py",
   "mimetype": "text/x-python",
   "name": "python",
   "nbconvert_exporter": "python",
   "pygments_lexer": "ipython3",
   "version": "3.8.18"
  }
 },
 "nbformat": 4,
 "nbformat_minor": 2
}
